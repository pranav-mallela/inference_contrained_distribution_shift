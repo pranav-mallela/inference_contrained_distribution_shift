{
 "cells": [
  {
   "cell_type": "code",
   "execution_count": 1,
   "metadata": {},
   "outputs": [
    {
     "name": "stdout",
     "output_type": "stream",
     "text": [
      "Downloading data for 2023 1-Year person survey for MI...\n",
      "Race distribution in Ann Arbor:\n",
      "White                        2654\n",
      "Two or more races             143\n",
      "Some other race                34\n",
      "American Indian                33\n",
      "Asian                          13\n",
      "Black or African American      10\n",
      "Name: race, dtype: int64\n",
      "Race distribution in Ann Arbor:\n",
      "majority    2654\n",
      "minority     233\n",
      "Name: race, dtype: int64\n"
     ]
    }
   ],
   "source": [
    "from folktables import ACSDataSource, ACSEmployment, ACSIncome\n",
    "import pandas as pd\n",
    "import numpy as np\n",
    "\n",
    "\n",
    "data_source = ACSDataSource(survey_year='2023', horizon='1-Year', survey='person')\n",
    "acs_data = data_source.get_data(states=['MI'], download=True)\n",
    "\n",
    "data = pd.DataFrame(acs_data)\n",
    "ne_lower_penninsula = 300 # more that 2k, majority clearly dominates\n",
    "detroit_sc_se = 3211 # ~700, minority dominates\n",
    "ann_arbor_puma = 2702 #1.1k majority dominates but not too far from minority\n",
    "\n",
    "PUMA = ne_lower_penninsula\n",
    "_data = data [data['PUMA'] == PUMA]\n",
    "\n",
    "# for all the regions as one\n",
    "# _data = data[data['PUMA'].isin([ne_lower_penninsula, detroit_sc_se, ann_arbor_puma])]\n",
    "\n",
    "race_mapping = {\n",
    "    1: \"White\",\n",
    "    2: \"Black or African American\",\n",
    "    3: \"American Indian\",\n",
    "    4: \"Alaska Native\",\n",
    "    5: \"American Indian and Alaska Native tribes specified\",\n",
    "    6: \"Asian\",\n",
    "    7: \"Native Hawaiian and Other Pacific Islander\",\n",
    "    8: \"Some other race\",\n",
    "    9: \"Two or more races\"\n",
    "}\n",
    "race_data = pd.DataFrame()\n",
    "race_data['race'] = _data['RAC1P'].map(race_mapping)\n",
    "\n",
    "race_counts = race_data['race'].value_counts()\n",
    "print(\"Race distribution in Ann Arbor:\")\n",
    "print(race_counts)\n",
    "\n",
    "# We only care about majority or minority for the time being \n",
    "# Where we consider White to be the majority\n",
    "race_data['race'] = race_data['race'].apply(\n",
    "    lambda x: \"majority\" if x == \"White\" else \"minority\"\n",
    ")\n",
    "race_counts = race_data['race'].value_counts()\n",
    "print(\"Race distribution in Ann Arbor:\")\n",
    "print(race_counts)\n",
    "\n",
    "dataset_size = len(race_data)"
   ]
  },
  {
   "cell_type": "code",
   "execution_count": 3,
   "metadata": {},
   "outputs": [
    {
     "name": "stdout",
     "output_type": "stream",
     "text": [
      "Race distribution in detroit_sc_se:\n",
      "Black or African American    472\n",
      "White                        179\n",
      "Two or more races             44\n",
      "Asian                         26\n",
      "Some other race                6\n",
      "American Indian                3\n",
      "Name: race, dtype: int64\n",
      "Race distribution in detroit_sc_se:\n",
      "minority    551\n",
      "majority    179\n",
      "Name: race, dtype: int64\n"
     ]
    }
   ],
   "source": [
    "_data = data [data['PUMA'] == detroit_sc_se]\n",
    "race_data = pd.DataFrame()\n",
    "race_data['race'] = _data['RAC1P'].map(race_mapping)\n",
    "\n",
    "race_counts = race_data['race'].value_counts()\n",
    "print(\"Race distribution in detroit_sc_se:\")\n",
    "print(race_counts)\n",
    "\n",
    "# We only care about majority or minority for the time being \n",
    "# Where we consider White to be the majority\n",
    "race_data['race'] = race_data['race'].apply(\n",
    "    lambda x: \"majority\" if x == \"White\" else \"minority\"\n",
    ")\n",
    "race_counts = race_data['race'].value_counts()\n",
    "print(\"Race distribution in detroit_sc_se:\")\n",
    "print(race_counts)\n",
    "\n",
    "dataset_size = len(race_data)\n"
   ]
  },
  {
   "cell_type": "code",
   "execution_count": null,
   "metadata": {},
   "outputs": [],
   "source": [
    "_data = data [data['PUMA'] == detroit_sc_se]\n",
    "race_data = pd.DataFrame()\n",
    "race_data['race'] = _data['RAC1P'].map(race_mapping)\n",
    "\n",
    "race_counts = race_data['race'].value_counts()\n",
    "print(\"Race distribution in detroit_sc_se:\")\n",
    "print(race_counts)\n",
    "\n",
    "# We only care about majority or minority for the time being \n",
    "# Where we consider White to be the majority\n",
    "race_data['race'] = race_data['race'].apply(\n",
    "    lambda x: \"majority\" if x == \"White\" else \"minority\"\n",
    ")\n",
    "race_counts = race_data['race'].value_counts()\n",
    "print(\"Race distribution in detroit_sc_se:\")\n",
    "print(race_counts)\n",
    "\n",
    "dataset_size = len(race_data)\n"
   ]
  }
 ],
 "metadata": {
  "kernelspec": {
   "display_name": "base",
   "language": "python",
   "name": "python3"
  },
  "language_info": {
   "codemirror_mode": {
    "name": "ipython",
    "version": 3
   },
   "file_extension": ".py",
   "mimetype": "text/x-python",
   "name": "python",
   "nbconvert_exporter": "python",
   "pygments_lexer": "ipython3",
   "version": "3.9.12"
  }
 },
 "nbformat": 4,
 "nbformat_minor": 2
}
