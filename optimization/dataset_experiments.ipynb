{
 "cells": [
  {
   "cell_type": "code",
   "execution_count": 1,
   "metadata": {},
   "outputs": [],
   "source": [
    "import numpy as np\n",
    "\n",
    "from datasets import FolktablesLoader\n",
    "\n",
    "%load_ext autoreload\n",
    "%autoreload 2"
   ]
  },
  {
   "cell_type": "code",
   "execution_count": 15,
   "metadata": {},
   "outputs": [],
   "source": [
    "rng = np.random.default_rng(0)"
   ]
  },
  {
   "cell_type": "code",
   "execution_count": 23,
   "metadata": {},
   "outputs": [
    {
     "data": {
      "text/plain": [
       "MIL_0           -0.052463\n",
       "MIL_1           -0.000639\n",
       "MIL_2           -0.015941\n",
       "MIL_3           -0.001435\n",
       "ANC_0           -0.099013\n",
       "ANC_1           -0.002294\n",
       "ANC_2            0.008354\n",
       "NATIVITY_0       0.001541\n",
       "DEAR_0          -0.002032\n",
       "DEYE_0           0.000011\n",
       "DREM_0          -0.013934\n",
       "DREM_1          -0.001524\n",
       "SEX_0           -0.009489\n",
       "white           -0.016156\n",
       "Creditability    0.068566\n",
       "dtype: float64"
      ]
     },
     "execution_count": 23,
     "metadata": {},
     "output_type": "execute_result"
    }
   ],
   "source": [
    "data_loader = FolktablesLoader(\n",
    "    rng=rng,\n",
    "    states=[\"AL\"],\n",
    "    feature_names=[\"MIL\", \"ANC\", \"NATIVITY\", \"DEAR\", \"DEYE\", \"DREM\", \"SEX\"],\n",
    ")\n",
    "dataset = data_loader.load()\n",
    "treatment_level = dataset.levels_colinear[0]\n",
    "dataset_size = dataset.population_df_colinear.shape[0]\n",
    "sample_size = dataset.sample_df_colinear.shape[0]\n",
    "\n",
    "dataset.population_df.mean() - dataset.sample_df.mean()"
   ]
  },
  {
   "cell_type": "code",
   "execution_count": 24,
   "metadata": {},
   "outputs": [
    {
     "data": {
      "text/plain": [
       "MIL_0           -0.052506\n",
       "MIL_1           -0.000698\n",
       "MIL_2           -0.016052\n",
       "MIL_3           -0.001791\n",
       "ANC_0           -0.094322\n",
       "ANC_1           -0.004063\n",
       "ANC_2            0.007685\n",
       "NATIVITY_0       0.001394\n",
       "DIS_0           -0.005570\n",
       "SEX_0           -0.008929\n",
       "white           -0.016530\n",
       "Creditability    0.069483\n",
       "dtype: float64"
      ]
     },
     "execution_count": 24,
     "metadata": {},
     "output_type": "execute_result"
    }
   ],
   "source": [
    "data_loader = FolktablesLoader(\n",
    "    rng=rng,\n",
    "    states=[\"AL\"],\n",
    "    feature_names=[\"MIL\", \"ANC\", \"NATIVITY\", \"DIS\", \"SEX\"],\n",
    "    alternate_outcome=\"DIS_0\",\n",
    ")\n",
    "dataset = data_loader.load()\n",
    "treatment_level = dataset.levels_colinear[0]\n",
    "dataset_size = dataset.population_df_colinear.shape[0]\n",
    "sample_size = dataset.sample_df_colinear.shape[0]\n",
    "\n",
    "dataset.population_df.mean() - dataset.sample_df.mean()"
   ]
  },
  {
   "cell_type": "code",
   "execution_count": 9,
   "metadata": {},
   "outputs": [],
   "source": [
    "data_loader = FolktablesLoader(\n",
    "    rng=rng,\n",
    "    states=[\"AL\"],\n",
    "    feature_names=[\"CIT\", \"MIG\", \"NATIVITY\", \"DIS\", \"SEX\"],\n",
    ")\n",
    "dataset = data_loader.load()\n",
    "treatment_level = dataset.levels_colinear[0]\n",
    "dataset_size = dataset.population_df_colinear.shape[0]\n",
    "sample_size = dataset.sample_df_colinear.shape[0]"
   ]
  },
  {
   "cell_type": "code",
   "execution_count": 10,
   "metadata": {},
   "outputs": [
    {
     "data": {
      "text/plain": [
       "2.8158805668563667"
      ]
     },
     "execution_count": 10,
     "metadata": {},
     "output_type": "execute_result"
    }
   ],
   "source": [
    "dataset.population_df[\"CIT_3\"].mean() / dataset.sample_df[\"CIT_3\"].mean()"
   ]
  },
  {
   "cell_type": "code",
   "execution_count": 11,
   "metadata": {},
   "outputs": [
    {
     "data": {
      "text/plain": [
       "1.595018166206109"
      ]
     },
     "execution_count": 11,
     "metadata": {},
     "output_type": "execute_result"
    }
   ],
   "source": [
    "dataset.population_df[\"MIG_2\"].mean() / dataset.sample_df[\"MIG_2\"].mean()"
   ]
  },
  {
   "cell_type": "code",
   "execution_count": 12,
   "metadata": {},
   "outputs": [
    {
     "data": {
      "text/plain": [
       "0.9784144285157088"
      ]
     },
     "execution_count": 12,
     "metadata": {},
     "output_type": "execute_result"
    }
   ],
   "source": [
    "dataset.population_df[\"NATIVITY_0\"].mean() / dataset.sample_df[\"NATIVITY_0\"].mean()"
   ]
  },
  {
   "cell_type": "code",
   "execution_count": 13,
   "metadata": {},
   "outputs": [
    {
     "data": {
      "text/plain": [
       "1.0862619634379196"
      ]
     },
     "execution_count": 13,
     "metadata": {},
     "output_type": "execute_result"
    }
   ],
   "source": [
    "dataset.population_df[\"Creditability\"].mean() / dataset.sample_df[\n",
    "    \"Creditability\"\n",
    "].mean()"
   ]
  },
  {
   "cell_type": "code",
   "execution_count": 14,
   "metadata": {},
   "outputs": [
    {
     "data": {
      "text/plain": [
       "0.03156075627883764"
      ]
     },
     "execution_count": 14,
     "metadata": {},
     "output_type": "execute_result"
    }
   ],
   "source": [
    "dataset.true_conditional_mean - dataset.empirical_conditional_mean"
   ]
  },
  {
   "cell_type": "code",
   "execution_count": null,
   "metadata": {},
   "outputs": [],
   "source": []
  }
 ],
 "metadata": {
  "kernelspec": {
   "display_name": "constraints",
   "language": "python",
   "name": "python3"
  },
  "language_info": {
   "codemirror_mode": {
    "name": "ipython",
    "version": 3
   },
   "file_extension": ".py",
   "mimetype": "text/x-python",
   "name": "python",
   "nbconvert_exporter": "python",
   "pygments_lexer": "ipython3",
   "version": "3.11.3"
  },
  "orig_nbformat": 4
 },
 "nbformat": 4,
 "nbformat_minor": 2
}
