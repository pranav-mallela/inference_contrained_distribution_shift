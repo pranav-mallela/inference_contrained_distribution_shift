{
 "cells": [
  {
   "cell_type": "code",
   "execution_count": 1,
   "metadata": {},
   "outputs": [],
   "source": [
    "import numpy as np\n",
    "\n",
    "from datasets import FolktablesLoader\n",
    "\n",
    "%load_ext autoreload\n",
    "%autoreload 2"
   ]
  },
  {
   "cell_type": "code",
   "execution_count": 2,
   "metadata": {},
   "outputs": [],
   "source": [
    "rng = np.random.default_rng(0)"
   ]
  },
  {
   "cell_type": "code",
   "execution_count": 3,
   "metadata": {},
   "outputs": [
    {
     "data": {
      "text/plain": [
       "CIT_0           -0.016959\n",
       "CIT_1            0.000201\n",
       "CIT_2            0.002118\n",
       "CIT_3            0.005936\n",
       "MIL_0           -0.107139\n",
       "MIL_1           -0.000544\n",
       "MIL_2           -0.017305\n",
       "MIL_3           -0.000577\n",
       "NATIVITY_0      -0.014639\n",
       "DIS_0            0.008799\n",
       "SEX_0           -0.018011\n",
       "white            0.003804\n",
       "Creditability    0.063323\n",
       "dtype: float64"
      ]
     },
     "execution_count": 3,
     "metadata": {},
     "output_type": "execute_result"
    }
   ],
   "source": [
    "data_loader = FolktablesLoader(\n",
    "    rng=rng,\n",
    "    states=[\"AL\"],\n",
    "    feature_names=[\n",
    "        \"CIT\",\n",
    "        \"MIL\",\n",
    "        \"NATIVITY\",\n",
    "        \"DIS\",\n",
    "        \"SEX\"\n",
    "    ]\n",
    ")\n",
    "dataset = data_loader.load()\n",
    "treatment_level = dataset.levels_colinear[0]\n",
    "dataset_size = dataset.population_df_colinear.shape[0]\n",
    "sample_size = dataset.sample_df_colinear.shape[0]\n"
   ]
  },
  {
   "cell_type": "code",
   "execution_count": 10,
   "metadata": {},
   "outputs": [
    {
     "data": {
      "text/plain": [
       "CIT_0            1.019108\n",
       "CIT_1            0.739357\n",
       "CIT_2            0.753827\n",
       "CIT_3            0.536182\n",
       "CIT_4            0.350130\n",
       "MIL_0            1.600763\n",
       "MIL_1            1.322552\n",
       "MIL_2            1.177388\n",
       "MIL_3            1.069170\n",
       "MIL_4            0.827456\n",
       "NATIVITY_0       1.016502\n",
       "NATIVITY_1       0.432054\n",
       "DIS_0            0.918019\n",
       "DIS_1            1.019017\n",
       "SEX_0            1.036084\n",
       "SEX_1            0.966583\n",
       "white            1.004503\n",
       "non-white        0.998451\n",
       "Creditability    0.861840\n",
       "dtype: float64"
      ]
     },
     "execution_count": 10,
     "metadata": {},
     "output_type": "execute_result"
    }
   ],
   "source": [
    "data_loader = FolktablesLoader(\n",
    "    rng=rng,\n",
    "    states=[\"AL\"],\n",
    "    feature_names=[\n",
    "        \"CIT\",\n",
    "        \"MIL\",\n",
    "        \"NATIVITY\",\n",
    "        \"DIS\",\n",
    "        \"SEX\"\n",
    "    ],\n",
    "    alternate_outcome=\"DIS_0\",\n",
    ")\n",
    "dataset = data_loader.load()\n",
    "treatment_level = dataset.levels_colinear[0]\n",
    "dataset_size = dataset.population_df_colinear.shape[0]\n",
    "sample_size = dataset.sample_df_colinear.shape[0]\n",
    "\n",
    "dataset.sample_df_colinear.mean() / dataset.population_df_colinear.mean()"
   ]
  },
  {
   "cell_type": "code",
   "execution_count": 9,
   "metadata": {},
   "outputs": [],
   "source": [
    "data_loader = FolktablesLoader(\n",
    "    rng=rng,\n",
    "    states=[\"AL\"],\n",
    "    feature_names=[\"CIT\", \"MIG\", \"NATIVITY\", \"DIS\", \"SEX\"],\n",
    ")\n",
    "dataset = data_loader.load()\n",
    "treatment_level = dataset.levels_colinear[0]\n",
    "dataset_size = dataset.population_df_colinear.shape[0]\n",
    "sample_size = dataset.sample_df_colinear.shape[0]"
   ]
  },
  {
   "cell_type": "code",
   "execution_count": 10,
   "metadata": {},
   "outputs": [
    {
     "data": {
      "text/plain": [
       "2.8158805668563667"
      ]
     },
     "execution_count": 10,
     "metadata": {},
     "output_type": "execute_result"
    }
   ],
   "source": [
    "dataset.population_df[\"CIT_3\"].mean() / dataset.sample_df[\"CIT_3\"].mean()"
   ]
  },
  {
   "cell_type": "code",
   "execution_count": 11,
   "metadata": {},
   "outputs": [
    {
     "data": {
      "text/plain": [
       "1.595018166206109"
      ]
     },
     "execution_count": 11,
     "metadata": {},
     "output_type": "execute_result"
    }
   ],
   "source": [
    "dataset.population_df[\"MIG_2\"].mean() / dataset.sample_df[\"MIG_2\"].mean()"
   ]
  },
  {
   "cell_type": "code",
   "execution_count": 12,
   "metadata": {},
   "outputs": [
    {
     "data": {
      "text/plain": [
       "0.9784144285157088"
      ]
     },
     "execution_count": 12,
     "metadata": {},
     "output_type": "execute_result"
    }
   ],
   "source": [
    "dataset.population_df[\"NATIVITY_0\"].mean() / dataset.sample_df[\"NATIVITY_0\"].mean()"
   ]
  },
  {
   "cell_type": "code",
   "execution_count": 13,
   "metadata": {},
   "outputs": [
    {
     "data": {
      "text/plain": [
       "1.0862619634379196"
      ]
     },
     "execution_count": 13,
     "metadata": {},
     "output_type": "execute_result"
    }
   ],
   "source": [
    "dataset.population_df[\"Creditability\"].mean() / dataset.sample_df[\n",
    "    \"Creditability\"\n",
    "].mean()"
   ]
  },
  {
   "cell_type": "code",
   "execution_count": 14,
   "metadata": {},
   "outputs": [
    {
     "data": {
      "text/plain": [
       "0.03156075627883764"
      ]
     },
     "execution_count": 14,
     "metadata": {},
     "output_type": "execute_result"
    }
   ],
   "source": [
    "dataset.true_conditional_mean - dataset.empirical_conditional_mean"
   ]
  },
  {
   "cell_type": "code",
   "execution_count": null,
   "metadata": {},
   "outputs": [],
   "source": []
  }
 ],
 "metadata": {
  "kernelspec": {
   "display_name": "constraints",
   "language": "python",
   "name": "python3"
  },
  "language_info": {
   "codemirror_mode": {
    "name": "ipython",
    "version": 3
   },
   "file_extension": ".py",
   "mimetype": "text/x-python",
   "name": "python",
   "nbconvert_exporter": "python",
   "pygments_lexer": "ipython3",
   "version": "3.11.4"
  },
  "orig_nbformat": 4
 },
 "nbformat": 4,
 "nbformat_minor": 2
}
