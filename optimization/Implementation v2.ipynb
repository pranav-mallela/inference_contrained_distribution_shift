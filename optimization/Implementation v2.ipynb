{
 "cells": [
  {
   "cell_type": "code",
   "execution_count": 1,
   "id": "d7f8bf6c",
   "metadata": {},
   "outputs": [
    {
     "name": "stderr",
     "output_type": "stream",
     "text": [
      "/Users/scortesg/opt/anaconda3/envs/rp_fall2022/lib/python3.10/site-packages/tqdm/auto.py:22: TqdmWarning: IProgress not found. Please update jupyter and ipywidgets. See https://ipywidgets.readthedocs.io/en/stable/user_install.html\n",
      "  from .autonotebook import tqdm as notebook_tqdm\n"
     ]
    }
   ],
   "source": [
    "from typing import List\n",
    "import pandas as pd\n",
    "import cvxpy as cp\n",
    "import numpy as np\n",
    "import torch\n",
    "import itertools\n",
    "import scipy"
   ]
  },
  {
   "cell_type": "code",
   "execution_count": 3,
   "id": "7e30cc02",
   "metadata": {},
   "outputs": [],
   "source": [
    "dataset_size = 100"
   ]
  },
  {
   "cell_type": "code",
   "execution_count": 13,
   "id": "d3ea96d7",
   "metadata": {},
   "outputs": [],
   "source": [
    "def simulate_multiple_outcomes(dataset_size: int, _feature_number:int = 4):\n",
    "    \"\"\"_summary_\n",
    "\n",
    "    Args:\n",
    "        dataset_size (int): _description_\n",
    "\n",
    "    Returns:\n",
    "        _type_: _description_\n",
    "    \"\"\"\n",
    "    X = np.random.multivariate_normal(mean=np.zeros(_feature_number), cov=np.identity(_feature_number), size = dataset_size)\n",
    "    X = pd.DataFrame([pd.cut(X[:,0], [-np.inf, 0, np.inf]).codes,\n",
    "                    pd.cut(X[:,1], [-np.inf, 1, np.inf]).codes,\n",
    "                    pd.cut(X[:,2], [-np.inf, -1, np.inf]).codes,\n",
    "                    pd.cut(X[:,3], [-np.inf, -1, 1, np.inf]).codes]).T\n",
    "    # TODO (Mateo) Can we simulate with an arbitrary number of features?\n",
    "    pi_x = scipy.special.expit((2*X[0] - 4*X[1] + 2*X[2] - X[3])/4)\n",
    "    A = 1*(pi_x > np.random.uniform(size=dataset_size))\n",
    "\n",
    "    mu_0 = scipy.special.expit(4*A)\n",
    "    y_0 = 1*(mu_0 > np.random.uniform(size=dataset_size))\n",
    "\n",
    "    mu_1 = scipy.special.expit(X[0] + X[2] + X[3] + 3*A)\n",
    "    y_1 = 1*(mu_1 > np.random.uniform(size=dataset_size))\n",
    "\n",
    "    return X, A, y_0, y_1"
   ]
  },
  {
   "cell_type": "code",
   "execution_count": 14,
   "id": "5abf11f5",
   "metadata": {},
   "outputs": [],
   "source": [
    "X, A, y_0, y_1 = simulate_multiple_outcomes(dataset_size = 100)"
   ]
  },
  {
   "cell_type": "code",
   "execution_count": 15,
   "id": "e2fe79ff",
   "metadata": {},
   "outputs": [
    {
     "data": {
      "text/plain": [
       "(100, 4)"
      ]
     },
     "execution_count": 15,
     "metadata": {},
     "output_type": "execute_result"
    }
   ],
   "source": [
    "X.shape"
   ]
  },
  {
   "cell_type": "markdown",
   "id": "1b48c23b",
   "metadata": {},
   "source": [
    "#### Data creation problem formulation\n",
    "\n",
    "A dummie dataset is going to be created, from now on features is going to be a column of the dataset. Levels will be the semantic feature i.e sex and estrata the posible value for a level, i.e male or female"
   ]
  },
  {
   "cell_type": "code",
   "execution_count": 16,
   "id": "29b9ecf1",
   "metadata": {},
   "outputs": [],
   "source": [
    "data = pd.read_csv(\"german_credit_data.csv\", index_col=0)\n",
    "data_labels = pd.read_csv(\"german_credit.csv\")\n",
    "data_dummies = pd.get_dummies(data[\"Sex\"])"
   ]
  },
  {
   "cell_type": "code",
   "execution_count": 17,
   "id": "9ac40544",
   "metadata": {},
   "outputs": [],
   "source": [
    "data_dummies[[\"free\", \"own\", \"rent\"]] = pd.get_dummies(data[\"Housing\"])\n",
    "data_dummies[[\"little\", \"moderate\", \"quite rich\", \"rich\"]] = pd.get_dummies(data[\"Saving accounts\"])\n",
    "data_dummies[[\"Age Bucket 1\", \"Age Bucket 2\"]] = pd.get_dummies(pd.cut(data.Age, [18, 45, 75]))\n",
    "data_dummies[\"Creditability\"] = data_labels[\"Creditability\"]"
   ]
  },
  {
   "cell_type": "code",
   "execution_count": 18,
   "id": "88497825",
   "metadata": {},
   "outputs": [
    {
     "data": {
      "text/plain": [
       "Index(['female', 'male', 'free', 'own', 'rent', 'little', 'moderate',\n",
       "       'quite rich', 'rich', 'Age Bucket 1', 'Age Bucket 2', 'Creditability'],\n",
       "      dtype='object')"
      ]
     },
     "execution_count": 18,
     "metadata": {},
     "output_type": "execute_result"
    }
   ],
   "source": [
    "data_dummies.columns"
   ]
  },
  {
   "cell_type": "markdown",
   "id": "d8a99c13",
   "metadata": {},
   "source": [
    "Now the dataset is artificially biased, in this particular case only one forth of the males with good credit score are taken and one forth of the females with a ba\n",
    "d one."
   ]
  },
  {
   "cell_type": "code",
   "execution_count": 19,
   "id": "2c738731",
   "metadata": {},
   "outputs": [],
   "source": [
    "income_skewed_data = []\n",
    "confounders = [\"little\", \"moderate\", \"quite rich\", \"rich\"]\n",
    "# sample_prop = np.random.uniform(size=4)\n",
    "sample_prop = [0.8, 0.8, 0.4, 0.6]\n",
    "\n",
    "for ii in range(4):\n",
    "    income_skewed_data.append(data_dummies[data_dummies[confounders[ii]] == 1].sample(frac=sample_prop[ii]))\n",
    "\n",
    "income_skewed_data = pd.concat(income_skewed_data)"
   ]
  },
  {
   "cell_type": "code",
   "execution_count": 20,
   "id": "efc5a789",
   "metadata": {},
   "outputs": [
    {
     "data": {
      "text/html": [
       "<div>\n",
       "<style scoped>\n",
       "    .dataframe tbody tr th:only-of-type {\n",
       "        vertical-align: middle;\n",
       "    }\n",
       "\n",
       "    .dataframe tbody tr th {\n",
       "        vertical-align: top;\n",
       "    }\n",
       "\n",
       "    .dataframe thead th {\n",
       "        text-align: right;\n",
       "    }\n",
       "</style>\n",
       "<table border=\"1\" class=\"dataframe\">\n",
       "  <thead>\n",
       "    <tr style=\"text-align: right;\">\n",
       "      <th></th>\n",
       "      <th>female</th>\n",
       "      <th>male</th>\n",
       "      <th>free</th>\n",
       "      <th>own</th>\n",
       "      <th>rent</th>\n",
       "      <th>little</th>\n",
       "      <th>moderate</th>\n",
       "      <th>quite rich</th>\n",
       "      <th>rich</th>\n",
       "      <th>Age Bucket 1</th>\n",
       "      <th>Age Bucket 2</th>\n",
       "      <th>Creditability</th>\n",
       "    </tr>\n",
       "  </thead>\n",
       "  <tbody>\n",
       "    <tr>\n",
       "      <th>644</th>\n",
       "      <td>0</td>\n",
       "      <td>1</td>\n",
       "      <td>0</td>\n",
       "      <td>1</td>\n",
       "      <td>0</td>\n",
       "      <td>1</td>\n",
       "      <td>0</td>\n",
       "      <td>0</td>\n",
       "      <td>0</td>\n",
       "      <td>1</td>\n",
       "      <td>0</td>\n",
       "      <td>1</td>\n",
       "    </tr>\n",
       "    <tr>\n",
       "      <th>981</th>\n",
       "      <td>0</td>\n",
       "      <td>1</td>\n",
       "      <td>0</td>\n",
       "      <td>0</td>\n",
       "      <td>1</td>\n",
       "      <td>1</td>\n",
       "      <td>0</td>\n",
       "      <td>0</td>\n",
       "      <td>0</td>\n",
       "      <td>1</td>\n",
       "      <td>0</td>\n",
       "      <td>0</td>\n",
       "    </tr>\n",
       "    <tr>\n",
       "      <th>491</th>\n",
       "      <td>1</td>\n",
       "      <td>0</td>\n",
       "      <td>1</td>\n",
       "      <td>0</td>\n",
       "      <td>0</td>\n",
       "      <td>1</td>\n",
       "      <td>0</td>\n",
       "      <td>0</td>\n",
       "      <td>0</td>\n",
       "      <td>1</td>\n",
       "      <td>0</td>\n",
       "      <td>1</td>\n",
       "    </tr>\n",
       "    <tr>\n",
       "      <th>389</th>\n",
       "      <td>1</td>\n",
       "      <td>0</td>\n",
       "      <td>0</td>\n",
       "      <td>1</td>\n",
       "      <td>0</td>\n",
       "      <td>1</td>\n",
       "      <td>0</td>\n",
       "      <td>0</td>\n",
       "      <td>0</td>\n",
       "      <td>1</td>\n",
       "      <td>0</td>\n",
       "      <td>1</td>\n",
       "    </tr>\n",
       "    <tr>\n",
       "      <th>365</th>\n",
       "      <td>0</td>\n",
       "      <td>1</td>\n",
       "      <td>0</td>\n",
       "      <td>1</td>\n",
       "      <td>0</td>\n",
       "      <td>1</td>\n",
       "      <td>0</td>\n",
       "      <td>0</td>\n",
       "      <td>0</td>\n",
       "      <td>1</td>\n",
       "      <td>0</td>\n",
       "      <td>1</td>\n",
       "    </tr>\n",
       "    <tr>\n",
       "      <th>...</th>\n",
       "      <td>...</td>\n",
       "      <td>...</td>\n",
       "      <td>...</td>\n",
       "      <td>...</td>\n",
       "      <td>...</td>\n",
       "      <td>...</td>\n",
       "      <td>...</td>\n",
       "      <td>...</td>\n",
       "      <td>...</td>\n",
       "      <td>...</td>\n",
       "      <td>...</td>\n",
       "      <td>...</td>\n",
       "    </tr>\n",
       "    <tr>\n",
       "      <th>167</th>\n",
       "      <td>1</td>\n",
       "      <td>0</td>\n",
       "      <td>0</td>\n",
       "      <td>1</td>\n",
       "      <td>0</td>\n",
       "      <td>0</td>\n",
       "      <td>0</td>\n",
       "      <td>0</td>\n",
       "      <td>1</td>\n",
       "      <td>1</td>\n",
       "      <td>0</td>\n",
       "      <td>1</td>\n",
       "    </tr>\n",
       "    <tr>\n",
       "      <th>140</th>\n",
       "      <td>0</td>\n",
       "      <td>1</td>\n",
       "      <td>0</td>\n",
       "      <td>1</td>\n",
       "      <td>0</td>\n",
       "      <td>0</td>\n",
       "      <td>0</td>\n",
       "      <td>0</td>\n",
       "      <td>1</td>\n",
       "      <td>1</td>\n",
       "      <td>0</td>\n",
       "      <td>1</td>\n",
       "    </tr>\n",
       "    <tr>\n",
       "      <th>183</th>\n",
       "      <td>0</td>\n",
       "      <td>1</td>\n",
       "      <td>0</td>\n",
       "      <td>1</td>\n",
       "      <td>0</td>\n",
       "      <td>0</td>\n",
       "      <td>0</td>\n",
       "      <td>0</td>\n",
       "      <td>1</td>\n",
       "      <td>0</td>\n",
       "      <td>1</td>\n",
       "      <td>1</td>\n",
       "    </tr>\n",
       "    <tr>\n",
       "      <th>733</th>\n",
       "      <td>1</td>\n",
       "      <td>0</td>\n",
       "      <td>0</td>\n",
       "      <td>0</td>\n",
       "      <td>1</td>\n",
       "      <td>0</td>\n",
       "      <td>0</td>\n",
       "      <td>0</td>\n",
       "      <td>1</td>\n",
       "      <td>1</td>\n",
       "      <td>0</td>\n",
       "      <td>1</td>\n",
       "    </tr>\n",
       "    <tr>\n",
       "      <th>94</th>\n",
       "      <td>0</td>\n",
       "      <td>1</td>\n",
       "      <td>0</td>\n",
       "      <td>1</td>\n",
       "      <td>0</td>\n",
       "      <td>0</td>\n",
       "      <td>0</td>\n",
       "      <td>0</td>\n",
       "      <td>1</td>\n",
       "      <td>0</td>\n",
       "      <td>1</td>\n",
       "      <td>1</td>\n",
       "    </tr>\n",
       "  </tbody>\n",
       "</table>\n",
       "<p>618 rows × 12 columns</p>\n",
       "</div>"
      ],
      "text/plain": [
       "     female  male  free  own  rent  little  moderate  quite rich  rich  \\\n",
       "644       0     1     0    1     0       1         0           0     0   \n",
       "981       0     1     0    0     1       1         0           0     0   \n",
       "491       1     0     1    0     0       1         0           0     0   \n",
       "389       1     0     0    1     0       1         0           0     0   \n",
       "365       0     1     0    1     0       1         0           0     0   \n",
       "..      ...   ...   ...  ...   ...     ...       ...         ...   ...   \n",
       "167       1     0     0    1     0       0         0           0     1   \n",
       "140       0     1     0    1     0       0         0           0     1   \n",
       "183       0     1     0    1     0       0         0           0     1   \n",
       "733       1     0     0    0     1       0         0           0     1   \n",
       "94        0     1     0    1     0       0         0           0     1   \n",
       "\n",
       "     Age Bucket 1  Age Bucket 2  Creditability  \n",
       "644             1             0              1  \n",
       "981             1             0              0  \n",
       "491             1             0              1  \n",
       "389             1             0              1  \n",
       "365             1             0              1  \n",
       "..            ...           ...            ...  \n",
       "167             1             0              1  \n",
       "140             1             0              1  \n",
       "183             0             1              1  \n",
       "733             1             0              1  \n",
       "94              0             1              1  \n",
       "\n",
       "[618 rows x 12 columns]"
      ]
     },
     "execution_count": 20,
     "metadata": {},
     "output_type": "execute_result"
    }
   ],
   "source": [
    "income_skewed_data"
   ]
  },
  {
   "cell_type": "code",
   "execution_count": 21,
   "id": "e3261221",
   "metadata": {},
   "outputs": [],
   "source": [
    "# females = data_dummies[data_dummies.female == 1]\n",
    "# females_good = females[females.Creditability == 1]\n",
    "# females_bad = females[females.Creditability == 0]\n",
    "\n",
    "# males = data_dummies[data_dummies.female == 0]\n",
    "# males_good = males[males.Creditability == 1]\n",
    "# males_bad = males[males.Creditability == 0]\n",
    "\n",
    "# ma_good_sample = males_good.sample(frac = 0.4)\n",
    "# fem_bad_sample = females_bad.sample(frac = 0.2)\n",
    "\n",
    "# ma_bad_sample = males_bad.sample(frac = 0.3)\n",
    "# females_good_sample = females_good.sample(frac = 0.35)"
   ]
  },
  {
   "cell_type": "markdown",
   "id": "2ec0b8ed",
   "metadata": {},
   "source": [
    "from now on the random variable $A$ will denote apperaing or not in this datatset."
   ]
  },
  {
   "cell_type": "code",
   "execution_count": 22,
   "id": "746db53e",
   "metadata": {},
   "outputs": [],
   "source": [
    "# sex_skewed_data = pd.concat([ma_good_sample, fem_bad_sample])"
   ]
  },
  {
   "cell_type": "markdown",
   "id": "5401288c",
   "metadata": {},
   "source": [
    "### Implementation of `Pending cool name`"
   ]
  },
  {
   "cell_type": "code",
   "execution_count": 23,
   "id": "0d04f1b2",
   "metadata": {},
   "outputs": [],
   "source": [
    "def build_counts(data : pd.DataFrame, levels: List[List], target:str):\n",
    "    \"\"\"\n",
    "    Given a dummie variable dataset it return a matrix counts\n",
    "    from all posible combinations of features\n",
    "    \"\"\"\n",
    "    shape = [0 for i in range(len(levels) + 1)]        \n",
    "    # 2 comes from the response variable Y in this case binary\n",
    "    shape[0] = 2\n",
    "    \n",
    "    for index, level in enumerate(levels):\n",
    "        number_levels = len(level)\n",
    "        shape[index + 1] = number_levels\n",
    "        \n",
    "    count = torch.zeros(shape)\n",
    "    for _, row in data.iterrows():\n",
    "        position = [0 for i in range(len(levels) + 1)]\n",
    "        position[0] = row[target]\n",
    "        \n",
    "        for index, level in enumerate(levels):\n",
    "            for index_j, feature in enumerate(level):\n",
    "                if row[feature] == 1:\n",
    "                   position[index + 1] = index_j\n",
    "        count[tuple(position)] += 1\n",
    "    # Machetimbis para que después no me estallen los gradientes\n",
    "    count[count == 0] = 0.00001\n",
    "    return count        "
   ]
  },
  {
   "cell_type": "markdown",
   "id": "cc443ef1",
   "metadata": {},
   "source": [
    "# Watch out\n",
    "Here is where most of the meat is. The method is based in building restrictions for an optimization problem that will make the observed data consistent with some ground truth value (i.e some data taken from the real world). "
   ]
  },
  {
   "cell_type": "code",
   "execution_count": 24,
   "id": "a17383d0",
   "metadata": {
    "scrolled": true
   },
   "outputs": [
    {
     "name": "stdout",
     "output_type": "stream",
     "text": [
      "(91, 12)\n",
      "(209, 12)\n",
      "(219, 12)\n",
      "(481, 12)\n"
     ]
    },
    {
     "name": "stderr",
     "output_type": "stream",
     "text": [
      "/var/folders/pp/kkyvc6j528n8bbnjl0xkn20r0000gp/T/ipykernel_9234/1081995785.py:1: UserWarning: Boolean Series key will be reindexed to match DataFrame index.\n",
      "  print(data_dummies[data_dummies[\"Creditability\"] == 0][data_dummies[\"female\"] == 1].shape)\n",
      "/var/folders/pp/kkyvc6j528n8bbnjl0xkn20r0000gp/T/ipykernel_9234/1081995785.py:2: UserWarning: Boolean Series key will be reindexed to match DataFrame index.\n",
      "  print(data_dummies[data_dummies[\"Creditability\"] == 0][data_dummies[\"male\"] == 1].shape)\n",
      "/var/folders/pp/kkyvc6j528n8bbnjl0xkn20r0000gp/T/ipykernel_9234/1081995785.py:3: UserWarning: Boolean Series key will be reindexed to match DataFrame index.\n",
      "  print(data_dummies[data_dummies[\"Creditability\"] == 1][data_dummies[\"female\"] == 1].shape)\n",
      "/var/folders/pp/kkyvc6j528n8bbnjl0xkn20r0000gp/T/ipykernel_9234/1081995785.py:4: UserWarning: Boolean Series key will be reindexed to match DataFrame index.\n",
      "  print(data_dummies[data_dummies[\"Creditability\"] == 1][data_dummies[\"male\"] == 1].shape)\n"
     ]
    }
   ],
   "source": [
    "print(data_dummies[data_dummies[\"Creditability\"] == 0][data_dummies[\"female\"] == 1].shape)\n",
    "print(data_dummies[data_dummies[\"Creditability\"] == 0][data_dummies[\"male\"] == 1].shape)\n",
    "print(data_dummies[data_dummies[\"Creditability\"] == 1][data_dummies[\"female\"] == 1].shape)\n",
    "print(data_dummies[data_dummies[\"Creditability\"] == 1][data_dummies[\"male\"] == 1].shape)"
   ]
  },
  {
   "cell_type": "code",
   "execution_count": 25,
   "id": "c64e9133",
   "metadata": {},
   "outputs": [],
   "source": [
    "# Hand made ground truth restricitions\n",
    "b0 = np.array([91, 209])\n",
    "b1 = np.array([219, 481])"
   ]
  },
  {
   "cell_type": "code",
   "execution_count": 26,
   "id": "6bdade9c",
   "metadata": {},
   "outputs": [],
   "source": [
    "def build_strata_counts_matrix(weight_features: torch.Tensor, counts: torch.Tensor, level: List[str]):\n",
    "    \"\"\"Builds linear restrictions for a convex opt problem.\n",
    "    \n",
    "    This method build a Matrix with counts by combination of strata,\n",
    "    It will return two matrixes each one associated to the idividuals\n",
    "    with y=1 or y=1:\n",
    "    \n",
    "    A_1 (a_{ij}), a_{ij} is the number of observations in the dataset\n",
    "    such that y=1 x_i = 1 and x_j =1.\n",
    "    \n",
    "    A_0 (a_{ij}), a_{ij} is the number of observations in the dataset\n",
    "    such that y=1 x_i = 1 and x_j =1.\n",
    "    \n",
    "    Note that unlike i, j is fixed, in the code outside this method\n",
    "    varies trough female and male\n",
    "    \n",
    "    returns A_0, A_1\n",
    "    \"\"\"\n",
    "    _, features = weight_features.shape\n",
    "    level_size = len(level)\n",
    "    # This should be associated with the y?\n",
    "    \n",
    "    y_0_ground_truth = torch.zeros(level_size, features)\n",
    "    y_1_ground_truth = torch.zeros(level_size, features)\n",
    "    \n",
    "    data_count_0 = counts[0]\n",
    "    data_count_1 = counts[1]\n",
    "    \n",
    "    for level in range(level_size):\n",
    "        # Flaw here only works with the first level.\n",
    "        t = data_count_0[level].flatten().unsqueeze(1)\n",
    "        features = weight_features[level*t.shape[0]:(level + 1)*t.shape[0]]        \n",
    "        y_0_ground_truth[level] = (features*t).sum(dim=0)\n",
    "\n",
    "        \n",
    "    for level in range(level_size):\n",
    "        # Flaw here only works with the first level.\n",
    "        t_ = data_count_1[level].flatten().unsqueeze(1)    \n",
    "        features_ = weight_features[weight_features.shape[0]//2 + level*t.shape[0]:weight_features.shape[0]//2 + (level + 1)*t.shape[0]]        \n",
    "        y_1_ground_truth[level] = (features_*t_).sum(dim=0)\n",
    "        \n",
    "\n",
    "    return y_0_ground_truth, y_1_ground_truth\n",
    "        "
   ]
  },
  {
   "cell_type": "markdown",
   "id": "5a044dbb",
   "metadata": {},
   "source": [
    "This method was built for ease of computation, we wanted something that can be written in terms of matrix multiplications and slices thus taking advantage of DL frameworks paralelization."
   ]
  },
  {
   "cell_type": "code",
   "execution_count": 27,
   "id": "c4aa8da2",
   "metadata": {},
   "outputs": [],
   "source": [
    "# Put always the level we want to aggregate from before than anything\n",
    "# levels = [[\"female\", \"male\"], [\"Age Bucket 1\", \"Age Bucket 2\"]]\n",
    "levels = [['female', 'male'], ['free', 'own', 'rent'], ['little', 'moderate',\n",
    "       'quite rich', 'rich'], ['Age Bucket 1', 'Age Bucket 2']]"
   ]
  },
  {
   "cell_type": "code",
   "execution_count": 28,
   "id": "cde958e0",
   "metadata": {},
   "outputs": [],
   "source": [
    "counts = build_counts(income_skewed_data, levels, \"Creditability\")"
   ]
  },
  {
   "cell_type": "code",
   "execution_count": 40,
   "id": "f1338c76",
   "metadata": {},
   "outputs": [],
   "source": [
    "data_count_0 = counts[0]\n",
    "data_count_1 = counts[1]"
   ]
  },
  {
   "cell_type": "code",
   "execution_count": 41,
   "id": "279b8ce3",
   "metadata": {},
   "outputs": [],
   "source": [
    "weights_features = torch.zeros(counts.numel(), 9)\n",
    "idx = 0\n",
    "for target in [0, 1]:\n",
    "    for i, sex in enumerate([\"female\", \"male\"]):\n",
    "        for housing in ['free', 'own', 'rent']:\n",
    "            for j, income in enumerate(['little', 'moderate', 'quite rich', 'rich']):\n",
    "                for age in ['Age Bucket 1', 'Age Bucket 2']:\n",
    "                    credit_sex_features = [0]*4\n",
    "                    credit_sex_features[target*2 + i] = 1\n",
    "                    income_features = [0]*4\n",
    "                    income_features[j] = 1\n",
    "                    weights_features[idx] = torch.tensor(credit_sex_features + income_features + [1]).float()\n",
    "                    idx += 1"
   ]
  },
  {
   "cell_type": "code",
   "execution_count": 42,
   "id": "7417f5b6",
   "metadata": {
    "scrolled": false
   },
   "outputs": [],
   "source": [
    "A0, A1 = build_strata_counts_matrix(weights_features, counts, [\"female\", \"male\"])"
   ]
  },
  {
   "cell_type": "code",
   "execution_count": 43,
   "id": "d979e3fe",
   "metadata": {},
   "outputs": [
    {
     "data": {
      "text/plain": [
       "tensor([57.0001,  0.0000,  0.0000,  0.0000, 44.0000,  7.0000,  4.0000,  2.0001,\n",
       "        57.0001])"
      ]
     },
     "execution_count": 43,
     "metadata": {},
     "output_type": "execute_result"
    }
   ],
   "source": [
    "A0[0]"
   ]
  },
  {
   "cell_type": "code",
   "execution_count": 44,
   "id": "0e53cd5b",
   "metadata": {},
   "outputs": [
    {
     "data": {
      "text/plain": [
       "tensor([  0.0000,   0.0000, 141.0001,   0.0000, 108.0000,  21.0000,   2.0000,\n",
       "         10.0000, 141.0001])"
      ]
     },
     "execution_count": 44,
     "metadata": {},
     "output_type": "execute_result"
    }
   ],
   "source": [
    "A1[0]"
   ]
  },
  {
   "cell_type": "code",
   "execution_count": 45,
   "id": "518a8c61",
   "metadata": {},
   "outputs": [
    {
     "data": {
      "text/plain": [
       "torch.Size([96, 9])"
      ]
     },
     "execution_count": 45,
     "metadata": {},
     "output_type": "execute_result"
    }
   ],
   "source": [
    "weights_features.shape"
   ]
  },
  {
   "cell_type": "markdown",
   "id": "3e9fd529",
   "metadata": {},
   "source": [
    "### Optimization part\n",
    "Let it rip!!"
   ]
  },
  {
   "cell_type": "code",
   "execution_count": 46,
   "id": "31454d3f",
   "metadata": {},
   "outputs": [
    {
     "data": {
      "text/plain": [
       "0.019264069264069317"
      ]
     },
     "execution_count": 46,
     "metadata": {},
     "output_type": "execute_result"
    }
   ],
   "source": [
    "aux = income_skewed_data.groupby('female')['Creditability'].mean()\n",
    "aux[1] - aux[0]"
   ]
  },
  {
   "cell_type": "code",
   "execution_count": 47,
   "id": "2393e0ef",
   "metadata": {},
   "outputs": [
    {
     "data": {
      "text/plain": [
       "0.00935016362786345"
      ]
     },
     "execution_count": 47,
     "metadata": {},
     "output_type": "execute_result"
    }
   ],
   "source": [
    "aux = data_dummies.groupby('female')['Creditability'].mean()\n",
    "gt_ate= aux[1] - aux[0]\n",
    "gt_ate"
   ]
  },
  {
   "cell_type": "code",
   "execution_count": 50,
   "id": "2c2d817a",
   "metadata": {},
   "outputs": [
    {
     "name": "stdout",
     "output_type": "stream",
     "text": [
      "-0.027288595214486122 -2.9185152581893026 0.00935016362786345\n"
     ]
    },
    {
     "ename": "KeyboardInterrupt",
     "evalue": "",
     "output_type": "error",
     "traceback": [
      "\u001b[0;31m---------------------------------------------------------------------------\u001b[0m",
      "\u001b[0;31mKeyboardInterrupt\u001b[0m                         Traceback (most recent call last)",
      "Input \u001b[0;32mIn [50]\u001b[0m, in \u001b[0;36m<cell line: 8>\u001b[0;34m()\u001b[0m\n\u001b[1;32m     11\u001b[0m A_0 \u001b[38;5;241m=\u001b[39m A0\u001b[38;5;241m.\u001b[39mnumpy()\n\u001b[1;32m     12\u001b[0m A_1 \u001b[38;5;241m=\u001b[39m A1\u001b[38;5;241m.\u001b[39mnumpy()\n\u001b[0;32m---> 14\u001b[0m objective \u001b[38;5;241m=\u001b[39m cp\u001b[38;5;241m.\u001b[39msum_squares(\u001b[43mw\u001b[49m\u001b[43m \u001b[49m\u001b[38;5;241;43m-\u001b[39;49m\u001b[43m \u001b[49m\u001b[43malpha_fixed\u001b[49m)\n\u001b[1;32m     15\u001b[0m \u001b[38;5;66;03m# With the two rstrictions (as it should) the problem is infeasible W >=1 ????\u001b[39;00m\n\u001b[1;32m     16\u001b[0m restrictions \u001b[38;5;241m=\u001b[39m [A_0\u001b[38;5;241m@\u001b[39m w \u001b[38;5;241m==\u001b[39m b0, A_1\u001b[38;5;241m@\u001b[39m w \u001b[38;5;241m==\u001b[39m b1]\n",
      "File \u001b[0;32m~/opt/anaconda3/envs/rp_fall2022/lib/python3.10/site-packages/cvxpy/expressions/expression.py:48\u001b[0m, in \u001b[0;36m_cast_other.<locals>.cast_op\u001b[0;34m(self, other)\u001b[0m\n\u001b[1;32m     44\u001b[0m \u001b[38;5;129m@wraps\u001b[39m(binary_op)\n\u001b[1;32m     45\u001b[0m \u001b[38;5;28;01mdef\u001b[39;00m \u001b[38;5;21mcast_op\u001b[39m(\u001b[38;5;28mself\u001b[39m, other):\n\u001b[1;32m     46\u001b[0m     \u001b[38;5;124;03m\"\"\"A wrapped binary operator that can handle non-Expression arguments.\u001b[39;00m\n\u001b[1;32m     47\u001b[0m \u001b[38;5;124;03m    \"\"\"\u001b[39;00m\n\u001b[0;32m---> 48\u001b[0m     other \u001b[38;5;241m=\u001b[39m \u001b[38;5;28;43mself\u001b[39;49m\u001b[38;5;241;43m.\u001b[39;49m\u001b[43mcast_to_const\u001b[49m\u001b[43m(\u001b[49m\u001b[43mother\u001b[49m\u001b[43m)\u001b[49m\n\u001b[1;32m     49\u001b[0m     \u001b[38;5;28;01mreturn\u001b[39;00m binary_op(\u001b[38;5;28mself\u001b[39m, other)\n",
      "File \u001b[0;32m~/opt/anaconda3/envs/rp_fall2022/lib/python3.10/site-packages/cvxpy/expressions/expression.py:507\u001b[0m, in \u001b[0;36mExpression.cast_to_const\u001b[0;34m(expr)\u001b[0m\n\u001b[1;32m    502\u001b[0m         \u001b[38;5;28;01mif\u001b[39;00m \u001b[38;5;28misinstance\u001b[39m(elem, Expression):\n\u001b[1;32m    503\u001b[0m             \u001b[38;5;28;01mraise\u001b[39;00m \u001b[38;5;167;01mValueError\u001b[39;00m(\n\u001b[1;32m    504\u001b[0m                 \u001b[38;5;124m\"\u001b[39m\u001b[38;5;124mThe input must be a single CVXPY Expression, not a list. \u001b[39m\u001b[38;5;124m\"\u001b[39m\n\u001b[1;32m    505\u001b[0m                 \u001b[38;5;124m\"\u001b[39m\u001b[38;5;124mCombine Expressions using atoms such as bmat, hstack, and vstack.\u001b[39m\u001b[38;5;124m\"\u001b[39m\n\u001b[1;32m    506\u001b[0m             )\n\u001b[0;32m--> 507\u001b[0m \u001b[38;5;28;01mreturn\u001b[39;00m expr \u001b[38;5;28;01mif\u001b[39;00m \u001b[38;5;28misinstance\u001b[39m(expr, Expression) \u001b[38;5;28;01melse\u001b[39;00m \u001b[43mcvxtypes\u001b[49m\u001b[38;5;241;43m.\u001b[39;49m\u001b[43mconstant\u001b[49m\u001b[43m(\u001b[49m\u001b[43m)\u001b[49m\u001b[43m(\u001b[49m\u001b[43mexpr\u001b[49m\u001b[43m)\u001b[49m\n",
      "File \u001b[0;32m~/opt/anaconda3/envs/rp_fall2022/lib/python3.10/site-packages/cvxpy/expressions/constants/constant.py:48\u001b[0m, in \u001b[0;36mConstant.__init__\u001b[0;34m(self, value)\u001b[0m\n\u001b[1;32m     46\u001b[0m     \u001b[38;5;28mself\u001b[39m\u001b[38;5;241m.\u001b[39m_sparse \u001b[38;5;241m=\u001b[39m \u001b[38;5;28;01mTrue\u001b[39;00m\n\u001b[1;32m     47\u001b[0m \u001b[38;5;28;01melse\u001b[39;00m:\n\u001b[0;32m---> 48\u001b[0m     \u001b[38;5;28mself\u001b[39m\u001b[38;5;241m.\u001b[39m_value \u001b[38;5;241m=\u001b[39m \u001b[43mintf\u001b[49m\u001b[38;5;241;43m.\u001b[39;49m\u001b[43mDEFAULT_INTF\u001b[49m\u001b[38;5;241;43m.\u001b[39;49m\u001b[43mconst_to_matrix\u001b[49m\u001b[43m(\u001b[49m\u001b[43mvalue\u001b[49m\u001b[43m)\u001b[49m\n\u001b[1;32m     49\u001b[0m     \u001b[38;5;28mself\u001b[39m\u001b[38;5;241m.\u001b[39m_sparse \u001b[38;5;241m=\u001b[39m \u001b[38;5;28;01mFalse\u001b[39;00m\n\u001b[1;32m     50\u001b[0m \u001b[38;5;28mself\u001b[39m\u001b[38;5;241m.\u001b[39m_imag: Optional[\u001b[38;5;28mbool\u001b[39m] \u001b[38;5;241m=\u001b[39m \u001b[38;5;28;01mNone\u001b[39;00m\n",
      "File \u001b[0;32m~/opt/anaconda3/envs/rp_fall2022/lib/python3.10/site-packages/cvxpy/interface/numpy_interface/ndarray_interface.py:50\u001b[0m, in \u001b[0;36mNDArrayInterface.const_to_matrix\u001b[0;34m(self, value, convert_scalars)\u001b[0m\n\u001b[1;32m     48\u001b[0m \u001b[38;5;28;01melse\u001b[39;00m:\n\u001b[1;32m     49\u001b[0m     result \u001b[38;5;241m=\u001b[39m numpy\u001b[38;5;241m.\u001b[39masarray(value)\n\u001b[0;32m---> 50\u001b[0m \u001b[38;5;28;01mif\u001b[39;00m result\u001b[38;5;241m.\u001b[39mdtype \u001b[38;5;129;01min\u001b[39;00m [\u001b[38;5;28mcomplex\u001b[39m, numpy\u001b[38;5;241m.\u001b[39mfloat64]:\n\u001b[1;32m     51\u001b[0m     \u001b[38;5;28;01mreturn\u001b[39;00m result\n\u001b[1;32m     52\u001b[0m \u001b[38;5;28;01melse\u001b[39;00m:\n",
      "\u001b[0;31mKeyboardInterrupt\u001b[0m: "
     ]
    }
   ],
   "source": [
    "torch.autograd.set_detect_anomaly(True)\n",
    "alpha = torch.rand(weights_features.shape[1], requires_grad=True)\n",
    "W = np.unique(weights_features.numpy(), axis=0)\n",
    "tol = 0.00000001\n",
    "\n",
    "optim = torch.optim.Adam([alpha], lr=5e-4)\n",
    "\n",
    "for iteration in range(10000):\n",
    "    w = cp.Variable(alpha.shape[0])\n",
    "    alpha_fixed = alpha.squeeze().detach().numpy()\n",
    "    A_0 = A0.numpy()\n",
    "    A_1 = A1.numpy()\n",
    "\n",
    "    objective = cp.sum_squares(w - alpha_fixed)\n",
    "    # With the two rstrictions (as it should) the problem is infeasible W >=1 ????\n",
    "    restrictions = [A_0@ w == b0, A_1@ w == b1]\n",
    "    prob = cp.Problem(cp.Minimize(objective), restrictions)\n",
    "    prob.solve()\n",
    "\n",
    "    alpha.data = torch.tensor(w.value).float()\n",
    "    weights_y1 = (weights_features[weights_features.shape[0]//2:]@alpha).reshape(*data_count_0.shape)\n",
    "    weights_y0 = (weights_features[:weights_features.shape[0]//2]@alpha).reshape(*data_count_1.shape)\n",
    "    \n",
    "    \n",
    "    weighted_counts_1 = weights_y1*data_count_1\n",
    "    weighted_counts_0 = weights_y0*data_count_0\n",
    "\n",
    "    sex = 1\n",
    "    sex_base = 0\n",
    "    \n",
    "    probs = weighted_counts_1/(weighted_counts_1 + weighted_counts_0)\n",
    "\n",
    "    \n",
    "    total_weight_count = weighted_counts_1[sex] + weighted_counts_0[sex]\n",
    "    ATE = ((probs[sex] - probs[sex_base])*total_weight_count/total_weight_count.sum()).sum()\n",
    "    \n",
    "    loss = ATE\n",
    "    if iteration % 500 == 0:\n",
    "        print(ATE.item(), ATE.item()/gt_ate, gt_ate)\n",
    "    \n",
    "    optim.zero_grad()\n",
    "    loss.backward()\n",
    "    optim.step()\n",
    "    "
   ]
  },
  {
   "cell_type": "code",
   "execution_count": 39,
   "id": "07a1921d",
   "metadata": {},
   "outputs": [
    {
     "data": {
      "text/plain": [
       "(0.009537313133478165, -0.034625258296728134)"
      ]
     },
     "execution_count": 39,
     "metadata": {},
     "output_type": "execute_result"
    }
   ],
   "source": [
    "0.009537313133478165, -0.034625258296728134"
   ]
  },
  {
   "cell_type": "code",
   "execution_count": null,
   "id": "3c67c055",
   "metadata": {},
   "outputs": [],
   "source": []
  },
  {
   "cell_type": "code",
   "execution_count": 37,
   "id": "dc65e371",
   "metadata": {},
   "outputs": [
    {
     "ename": "RuntimeError",
     "evalue": "Could not infer dtype of NoneType",
     "output_type": "error",
     "traceback": [
      "\u001b[0;31m---------------------------------------------------------------------------\u001b[0m",
      "\u001b[0;31mRuntimeError\u001b[0m                              Traceback (most recent call last)",
      "Input \u001b[0;32mIn [37]\u001b[0m, in \u001b[0;36m<cell line: 8>\u001b[0;34m()\u001b[0m\n\u001b[1;32m     18\u001b[0m prob\u001b[38;5;241m.\u001b[39msolve()\n\u001b[1;32m     20\u001b[0m \u001b[38;5;66;03m#\u001b[39;00m\n\u001b[0;32m---> 21\u001b[0m alpha\u001b[38;5;241m.\u001b[39mdata \u001b[38;5;241m=\u001b[39m \u001b[43mtorch\u001b[49m\u001b[38;5;241;43m.\u001b[39;49m\u001b[43mtensor\u001b[49m\u001b[43m(\u001b[49m\u001b[43mw\u001b[49m\u001b[38;5;241;43m.\u001b[39;49m\u001b[43mvalue\u001b[49m\u001b[43m)\u001b[49m\u001b[38;5;241m.\u001b[39mfloat()\n\u001b[1;32m     22\u001b[0m weights_y1 \u001b[38;5;241m=\u001b[39m (weights_features[weights_features\u001b[38;5;241m.\u001b[39mshape[\u001b[38;5;241m0\u001b[39m]\u001b[38;5;241m/\u001b[39m\u001b[38;5;241m/\u001b[39m\u001b[38;5;241m2\u001b[39m:]\u001b[38;5;129m@alpha\u001b[39m)\u001b[38;5;241m.\u001b[39mreshape(\u001b[38;5;241m*\u001b[39mdata_count_0\u001b[38;5;241m.\u001b[39mshape)\n\u001b[1;32m     23\u001b[0m weights_y0 \u001b[38;5;241m=\u001b[39m (weights_features[:weights_features\u001b[38;5;241m.\u001b[39mshape[\u001b[38;5;241m0\u001b[39m]\u001b[38;5;241m/\u001b[39m\u001b[38;5;241m/\u001b[39m\u001b[38;5;241m2\u001b[39m]\u001b[38;5;129m@alpha\u001b[39m)\u001b[38;5;241m.\u001b[39mreshape(\u001b[38;5;241m*\u001b[39mdata_count_1\u001b[38;5;241m.\u001b[39mshape)\n",
      "\u001b[0;31mRuntimeError\u001b[0m: Could not infer dtype of NoneType"
     ]
    }
   ],
   "source": [
    "torch.autograd.set_detect_anomaly(True)\n",
    "alpha = torch.rand(weights_features.shape[1], requires_grad=True)\n",
    "W = np.unique(weights_features.numpy(), axis=0)\n",
    "tol = 0.00000001\n",
    "\n",
    "optim = torch.optim.Adam([alpha], lr=5e-2)\n",
    "\n",
    "for iteration in range(10000):\n",
    "    w = cp.Variable(alpha.shape[0])\n",
    "    alpha_fixed = alpha.squeeze().detach().numpy()\n",
    "    A_0 = A0.numpy()\n",
    "    A_1 = A1.numpy()\n",
    "\n",
    "    objective = cp.sum_squares(w - alpha_fixed)\n",
    "    # With the two rstrictions (as it should) the problem is infeasible W >=1 ????\n",
    "    restrictions = [A_0@ w == b0, A_1@ w == b1, w>=1]\n",
    "    prob = cp.Problem(cp.Minimize(objective), restrictions)\n",
    "    prob.solve()\n",
    "\n",
    "    #\n",
    "    alpha.data = torch.tensor(w.value).float()\n",
    "    weights_y1 = (weights_features[weights_features.shape[0]//2:]@alpha).reshape(*data_count_0.shape)\n",
    "    weights_y0 = (weights_features[:weights_features.shape[0]//2]@alpha).reshape(*data_count_1.shape)\n",
    "    \n",
    "    \n",
    "    weighted_counts_1 = weights_y1*data_count_1\n",
    "    weighted_counts_0 = weights_y0*data_count_0\n",
    "\n",
    "    sex = 1\n",
    "    sex_base = 0\n",
    "    \n",
    "    \n",
    "    probs = weighted_counts_1/(weighted_counts_1 + weighted_counts_0)\n",
    "\n",
    "    \n",
    "    total_weight_count = weighted_counts_1[sex] + weighted_counts_0[sex]\n",
    "    # Here is the g-formula, The assertation now is sex\n",
    "    \n",
    "    diff = ((probs[sex] - probs[sex_base])*total_weight_count/total_weight_count.sum()).sum()\n",
    "    total_weighted_count_base =  weighted_counts_1[sex_base] + weighted_counts_0[sex_base]\n",
    "    base = ((probs_gt[sex] - probs_gt[sex_base])*total_weight_count_gt/total_weight_count_gt.sum()).sum()\n",
    "    \n",
    "    loss = diff\n",
    "    if iteration % 500 == 0:\n",
    "        print(diff.item(), diff.item()/base.item(), base.item())\n",
    "    \n",
    "    optim.zero_grad()\n",
    "    loss.backward()\n",
    "    optim.step()\n",
    "    "
   ]
  },
  {
   "cell_type": "code",
   "execution_count": 16,
   "id": "16a4b0f3",
   "metadata": {},
   "outputs": [],
   "source": [
    "# Put always the level we want to aggregate from before than anything\n",
    "# levels = [[\"female\", \"male\"], [\"Age Bucket 1\", \"Age Bucket 2\"]]\n",
    "levels = [['female', 'male'], ['free', 'own', 'rent'], ['little', 'moderate',\n",
    "       'quite rich', 'rich'], ['Age Bucket 1', 'Age Bucket 2']]"
   ]
  },
  {
   "cell_type": "code",
   "execution_count": 90,
   "id": "86f6cecf",
   "metadata": {
    "scrolled": true
   },
   "outputs": [
    {
     "name": "stdout",
     "output_type": "stream",
     "text": [
      "0.7697690725326538 0.8259571660035132 0.9319721460342407\n",
      "0.7751370668411255 0.8317169886884654 0.9319721460342407\n",
      "0.7751371264457703 0.8317170526438584 0.9319721460342407\n",
      "0.7751370668411255 0.8317169886884654 0.9319721460342407\n",
      "0.7751370668411255 0.8317169886884654 0.9319721460342407\n",
      "0.7751370668411255 0.8317169886884654 0.9319721460342407\n",
      "0.7751370668411255 0.8317169886884654 0.9319721460342407\n",
      "0.7751370668411255 0.8317169886884654 0.9319721460342407\n",
      "0.7751370668411255 0.8317169886884654 0.9319721460342407\n",
      "0.7751370668411255 0.8317169886884654 0.9319721460342407\n",
      "0.7751370668411255 0.8317169886884654 0.9319721460342407\n",
      "0.7752014994621277 0.8317861244681949 0.9319721460342407\n",
      "0.7752014398574829 0.831786060512802 0.9319721460342407\n"
     ]
    },
    {
     "ename": "KeyboardInterrupt",
     "evalue": "",
     "output_type": "error",
     "traceback": [
      "\u001b[0;31m---------------------------------------------------------------------------\u001b[0m",
      "\u001b[0;31mKeyboardInterrupt\u001b[0m                         Traceback (most recent call last)",
      "Input \u001b[0;32mIn [90]\u001b[0m, in \u001b[0;36m<cell line: 8>\u001b[0;34m()\u001b[0m\n\u001b[1;32m     16\u001b[0m restrictions \u001b[38;5;241m=\u001b[39m [A_0\u001b[38;5;241m@\u001b[39m w \u001b[38;5;241m==\u001b[39m b0, A_1\u001b[38;5;241m@\u001b[39m w \u001b[38;5;241m==\u001b[39m b1, w\u001b[38;5;241m>\u001b[39m\u001b[38;5;241m=\u001b[39m\u001b[38;5;241m1\u001b[39m]\n\u001b[1;32m     17\u001b[0m prob \u001b[38;5;241m=\u001b[39m cp\u001b[38;5;241m.\u001b[39mProblem(cp\u001b[38;5;241m.\u001b[39mMinimize(objective), restrictions)\n\u001b[0;32m---> 18\u001b[0m \u001b[43mprob\u001b[49m\u001b[38;5;241;43m.\u001b[39;49m\u001b[43msolve\u001b[49m\u001b[43m(\u001b[49m\u001b[43m)\u001b[49m\n\u001b[1;32m     21\u001b[0m alpha\u001b[38;5;241m.\u001b[39mdata \u001b[38;5;241m=\u001b[39m torch\u001b[38;5;241m.\u001b[39mtensor(w\u001b[38;5;241m.\u001b[39mvalue)\u001b[38;5;241m.\u001b[39mfloat()\n\u001b[1;32m     22\u001b[0m weights_y1 \u001b[38;5;241m=\u001b[39m (weights_features[weights_features\u001b[38;5;241m.\u001b[39mshape[\u001b[38;5;241m0\u001b[39m]\u001b[38;5;241m/\u001b[39m\u001b[38;5;241m/\u001b[39m\u001b[38;5;241m2\u001b[39m:]\u001b[38;5;129m@alpha\u001b[39m)\u001b[38;5;241m.\u001b[39mreshape(\u001b[38;5;241m*\u001b[39mdata_count_0\u001b[38;5;241m.\u001b[39mshape)\n",
      "File \u001b[0;32m~/opt/anaconda3/envs/rp_fall2022/lib/python3.10/site-packages/cvxpy/problems/problem.py:481\u001b[0m, in \u001b[0;36mProblem.solve\u001b[0;34m(self, *args, **kwargs)\u001b[0m\n\u001b[1;32m    479\u001b[0m \u001b[38;5;28;01melse\u001b[39;00m:\n\u001b[1;32m    480\u001b[0m     solve_func \u001b[38;5;241m=\u001b[39m Problem\u001b[38;5;241m.\u001b[39m_solve\n\u001b[0;32m--> 481\u001b[0m \u001b[38;5;28;01mreturn\u001b[39;00m \u001b[43msolve_func\u001b[49m\u001b[43m(\u001b[49m\u001b[38;5;28;43mself\u001b[39;49m\u001b[43m,\u001b[49m\u001b[43m \u001b[49m\u001b[38;5;241;43m*\u001b[39;49m\u001b[43margs\u001b[49m\u001b[43m,\u001b[49m\u001b[43m \u001b[49m\u001b[38;5;241;43m*\u001b[39;49m\u001b[38;5;241;43m*\u001b[39;49m\u001b[43mkwargs\u001b[49m\u001b[43m)\u001b[49m\n",
      "File \u001b[0;32m~/opt/anaconda3/envs/rp_fall2022/lib/python3.10/site-packages/cvxpy/problems/problem.py:1007\u001b[0m, in \u001b[0;36mProblem._solve\u001b[0;34m(self, solver, warm_start, verbose, gp, qcp, requires_grad, enforce_dpp, ignore_dpp, **kwargs)\u001b[0m\n\u001b[1;32m   1004\u001b[0m         \u001b[38;5;28mself\u001b[39m\u001b[38;5;241m.\u001b[39munpack(chain\u001b[38;5;241m.\u001b[39mretrieve(soln))\n\u001b[1;32m   1005\u001b[0m         \u001b[38;5;28;01mreturn\u001b[39;00m \u001b[38;5;28mself\u001b[39m\u001b[38;5;241m.\u001b[39mvalue\n\u001b[0;32m-> 1007\u001b[0m data, solving_chain, inverse_data \u001b[38;5;241m=\u001b[39m \u001b[38;5;28;43mself\u001b[39;49m\u001b[38;5;241;43m.\u001b[39;49m\u001b[43mget_problem_data\u001b[49m\u001b[43m(\u001b[49m\n\u001b[1;32m   1008\u001b[0m \u001b[43m    \u001b[49m\u001b[43msolver\u001b[49m\u001b[43m,\u001b[49m\u001b[43m \u001b[49m\u001b[43mgp\u001b[49m\u001b[43m,\u001b[49m\u001b[43m \u001b[49m\u001b[43menforce_dpp\u001b[49m\u001b[43m,\u001b[49m\u001b[43m \u001b[49m\u001b[43mignore_dpp\u001b[49m\u001b[43m,\u001b[49m\u001b[43m \u001b[49m\u001b[43mverbose\u001b[49m\u001b[43m)\u001b[49m\n\u001b[1;32m   1010\u001b[0m \u001b[38;5;28;01mif\u001b[39;00m verbose:\n\u001b[1;32m   1011\u001b[0m     \u001b[38;5;28mprint\u001b[39m(_NUM_SOLVER_STR)\n",
      "File \u001b[0;32m~/opt/anaconda3/envs/rp_fall2022/lib/python3.10/site-packages/cvxpy/problems/problem.py:655\u001b[0m, in \u001b[0;36mProblem.get_problem_data\u001b[0;34m(self, solver, gp, enforce_dpp, ignore_dpp, verbose)\u001b[0m\n\u001b[1;32m    652\u001b[0m     s\u001b[38;5;241m.\u001b[39mLOGGER\u001b[38;5;241m.\u001b[39minfo(\n\u001b[1;32m    653\u001b[0m              \u001b[38;5;124m'\u001b[39m\u001b[38;5;124mCompiling problem (target solver=\u001b[39m\u001b[38;5;132;01m%s\u001b[39;00m\u001b[38;5;124m).\u001b[39m\u001b[38;5;124m'\u001b[39m, solver_name)\n\u001b[1;32m    654\u001b[0m     s\u001b[38;5;241m.\u001b[39mLOGGER\u001b[38;5;241m.\u001b[39minfo(\u001b[38;5;124m'\u001b[39m\u001b[38;5;124mReduction chain: \u001b[39m\u001b[38;5;132;01m%s\u001b[39;00m\u001b[38;5;124m'\u001b[39m, reduction_chain_str)\n\u001b[0;32m--> 655\u001b[0m data, inverse_data \u001b[38;5;241m=\u001b[39m \u001b[43msolving_chain\u001b[49m\u001b[38;5;241;43m.\u001b[39;49m\u001b[43mapply\u001b[49m\u001b[43m(\u001b[49m\u001b[38;5;28;43mself\u001b[39;49m\u001b[43m,\u001b[49m\u001b[43m \u001b[49m\u001b[43mverbose\u001b[49m\u001b[43m)\u001b[49m\n\u001b[1;32m    656\u001b[0m safe_to_cache \u001b[38;5;241m=\u001b[39m (\n\u001b[1;32m    657\u001b[0m     \u001b[38;5;28misinstance\u001b[39m(data, \u001b[38;5;28mdict\u001b[39m)\n\u001b[1;32m    658\u001b[0m     \u001b[38;5;129;01mand\u001b[39;00m s\u001b[38;5;241m.\u001b[39mPARAM_PROB \u001b[38;5;129;01min\u001b[39;00m data\n\u001b[1;32m    659\u001b[0m     \u001b[38;5;129;01mand\u001b[39;00m \u001b[38;5;129;01mnot\u001b[39;00m \u001b[38;5;28many\u001b[39m(\u001b[38;5;28misinstance\u001b[39m(reduction, EvalParams)\n\u001b[1;32m    660\u001b[0m                 \u001b[38;5;28;01mfor\u001b[39;00m reduction \u001b[38;5;129;01min\u001b[39;00m solving_chain\u001b[38;5;241m.\u001b[39mreductions)\n\u001b[1;32m    661\u001b[0m )\n\u001b[1;32m    662\u001b[0m \u001b[38;5;28mself\u001b[39m\u001b[38;5;241m.\u001b[39m_compilation_time \u001b[38;5;241m=\u001b[39m time\u001b[38;5;241m.\u001b[39mtime() \u001b[38;5;241m-\u001b[39m start\n",
      "File \u001b[0;32m~/opt/anaconda3/envs/rp_fall2022/lib/python3.10/site-packages/cvxpy/reductions/chain.py:76\u001b[0m, in \u001b[0;36mChain.apply\u001b[0;34m(self, problem, verbose)\u001b[0m\n\u001b[1;32m     74\u001b[0m     \u001b[38;5;28;01mif\u001b[39;00m verbose:\n\u001b[1;32m     75\u001b[0m         s\u001b[38;5;241m.\u001b[39mLOGGER\u001b[38;5;241m.\u001b[39minfo(\u001b[38;5;124m'\u001b[39m\u001b[38;5;124mApplying reduction \u001b[39m\u001b[38;5;132;01m%s\u001b[39;00m\u001b[38;5;124m'\u001b[39m, \u001b[38;5;28mtype\u001b[39m(r)\u001b[38;5;241m.\u001b[39m\u001b[38;5;18m__name__\u001b[39m)\n\u001b[0;32m---> 76\u001b[0m     problem, inv \u001b[38;5;241m=\u001b[39m \u001b[43mr\u001b[49m\u001b[38;5;241;43m.\u001b[39;49m\u001b[43mapply\u001b[49m\u001b[43m(\u001b[49m\u001b[43mproblem\u001b[49m\u001b[43m)\u001b[49m\n\u001b[1;32m     77\u001b[0m     inverse_data\u001b[38;5;241m.\u001b[39mappend(inv)\n\u001b[1;32m     78\u001b[0m \u001b[38;5;28;01mreturn\u001b[39;00m problem, inverse_data\n",
      "File \u001b[0;32m~/opt/anaconda3/envs/rp_fall2022/lib/python3.10/site-packages/cvxpy/reductions/qp2quad_form/qp2symbolic_qp.py:60\u001b[0m, in \u001b[0;36mQp2SymbolicQp.apply\u001b[0;34m(self, problem)\u001b[0m\n\u001b[1;32m     58\u001b[0m \u001b[38;5;28;01mif\u001b[39;00m \u001b[38;5;129;01mnot\u001b[39;00m \u001b[38;5;28mself\u001b[39m\u001b[38;5;241m.\u001b[39maccepts(problem):\n\u001b[1;32m     59\u001b[0m     \u001b[38;5;28;01mraise\u001b[39;00m \u001b[38;5;167;01mValueError\u001b[39;00m(\u001b[38;5;124m\"\u001b[39m\u001b[38;5;124mCannot reduce problem to symbolic QP\u001b[39m\u001b[38;5;124m\"\u001b[39m)\n\u001b[0;32m---> 60\u001b[0m \u001b[38;5;28;01mreturn\u001b[39;00m \u001b[38;5;28;43msuper\u001b[39;49m\u001b[43m(\u001b[49m\u001b[43mQp2SymbolicQp\u001b[49m\u001b[43m,\u001b[49m\u001b[43m \u001b[49m\u001b[38;5;28;43mself\u001b[39;49m\u001b[43m)\u001b[49m\u001b[38;5;241;43m.\u001b[39;49m\u001b[43mapply\u001b[49m\u001b[43m(\u001b[49m\u001b[43mproblem\u001b[49m\u001b[43m)\u001b[49m\n",
      "File \u001b[0;32m~/opt/anaconda3/envs/rp_fall2022/lib/python3.10/site-packages/cvxpy/reductions/canonicalization.py:59\u001b[0m, in \u001b[0;36mCanonicalization.apply\u001b[0;34m(self, problem)\u001b[0m\n\u001b[1;32m     56\u001b[0m \u001b[38;5;124;03m\"\"\"Recursively canonicalize the objective and every constraint.\"\"\"\u001b[39;00m\n\u001b[1;32m     57\u001b[0m inverse_data \u001b[38;5;241m=\u001b[39m InverseData(problem)\n\u001b[0;32m---> 59\u001b[0m canon_objective, canon_constraints \u001b[38;5;241m=\u001b[39m \u001b[38;5;28;43mself\u001b[39;49m\u001b[38;5;241;43m.\u001b[39;49m\u001b[43mcanonicalize_tree\u001b[49m\u001b[43m(\u001b[49m\n\u001b[1;32m     60\u001b[0m \u001b[43m    \u001b[49m\u001b[43mproblem\u001b[49m\u001b[38;5;241;43m.\u001b[39;49m\u001b[43mobjective\u001b[49m\u001b[43m)\u001b[49m\n\u001b[1;32m     62\u001b[0m \u001b[38;5;28;01mfor\u001b[39;00m constraint \u001b[38;5;129;01min\u001b[39;00m problem\u001b[38;5;241m.\u001b[39mconstraints:\n\u001b[1;32m     63\u001b[0m     \u001b[38;5;66;03m# canon_constr is the constraint rexpressed in terms of\u001b[39;00m\n\u001b[1;32m     64\u001b[0m     \u001b[38;5;66;03m# its canonicalized arguments, and aux_constr are the constraints\u001b[39;00m\n\u001b[1;32m     65\u001b[0m     \u001b[38;5;66;03m# generated while canonicalizing the arguments of the original\u001b[39;00m\n\u001b[1;32m     66\u001b[0m     \u001b[38;5;66;03m# constraint\u001b[39;00m\n\u001b[1;32m     67\u001b[0m     canon_constr, aux_constr \u001b[38;5;241m=\u001b[39m \u001b[38;5;28mself\u001b[39m\u001b[38;5;241m.\u001b[39mcanonicalize_tree(\n\u001b[1;32m     68\u001b[0m         constraint)\n",
      "File \u001b[0;32m~/opt/anaconda3/envs/rp_fall2022/lib/python3.10/site-packages/cvxpy/reductions/canonicalization.py:99\u001b[0m, in \u001b[0;36mCanonicalization.canonicalize_tree\u001b[0;34m(self, expr)\u001b[0m\n\u001b[1;32m     97\u001b[0m constrs \u001b[38;5;241m=\u001b[39m []\n\u001b[1;32m     98\u001b[0m \u001b[38;5;28;01mfor\u001b[39;00m arg \u001b[38;5;129;01min\u001b[39;00m expr\u001b[38;5;241m.\u001b[39margs:\n\u001b[0;32m---> 99\u001b[0m     canon_arg, c \u001b[38;5;241m=\u001b[39m \u001b[38;5;28;43mself\u001b[39;49m\u001b[38;5;241;43m.\u001b[39;49m\u001b[43mcanonicalize_tree\u001b[49m\u001b[43m(\u001b[49m\u001b[43marg\u001b[49m\u001b[43m)\u001b[49m\n\u001b[1;32m    100\u001b[0m     canon_args \u001b[38;5;241m+\u001b[39m\u001b[38;5;241m=\u001b[39m [canon_arg]\n\u001b[1;32m    101\u001b[0m     constrs \u001b[38;5;241m+\u001b[39m\u001b[38;5;241m=\u001b[39m c\n",
      "File \u001b[0;32m~/opt/anaconda3/envs/rp_fall2022/lib/python3.10/site-packages/cvxpy/reductions/canonicalization.py:102\u001b[0m, in \u001b[0;36mCanonicalization.canonicalize_tree\u001b[0;34m(self, expr)\u001b[0m\n\u001b[1;32m    100\u001b[0m         canon_args \u001b[38;5;241m+\u001b[39m\u001b[38;5;241m=\u001b[39m [canon_arg]\n\u001b[1;32m    101\u001b[0m         constrs \u001b[38;5;241m+\u001b[39m\u001b[38;5;241m=\u001b[39m c\n\u001b[0;32m--> 102\u001b[0m     canon_expr, c \u001b[38;5;241m=\u001b[39m \u001b[38;5;28;43mself\u001b[39;49m\u001b[38;5;241;43m.\u001b[39;49m\u001b[43mcanonicalize_expr\u001b[49m\u001b[43m(\u001b[49m\u001b[43mexpr\u001b[49m\u001b[43m,\u001b[49m\u001b[43m \u001b[49m\u001b[43mcanon_args\u001b[49m\u001b[43m)\u001b[49m\n\u001b[1;32m    103\u001b[0m     constrs \u001b[38;5;241m+\u001b[39m\u001b[38;5;241m=\u001b[39m c\n\u001b[1;32m    104\u001b[0m \u001b[38;5;28;01mreturn\u001b[39;00m canon_expr, constrs\n",
      "File \u001b[0;32m~/opt/anaconda3/envs/rp_fall2022/lib/python3.10/site-packages/cvxpy/reductions/canonicalization.py:113\u001b[0m, in \u001b[0;36mCanonicalization.canonicalize_expr\u001b[0;34m(self, expr, args)\u001b[0m\n\u001b[1;32m    111\u001b[0m     \u001b[38;5;28;01mreturn\u001b[39;00m expr, []\n\u001b[1;32m    112\u001b[0m \u001b[38;5;28;01melif\u001b[39;00m \u001b[38;5;28mtype\u001b[39m(expr) \u001b[38;5;129;01min\u001b[39;00m \u001b[38;5;28mself\u001b[39m\u001b[38;5;241m.\u001b[39mcanon_methods:\n\u001b[0;32m--> 113\u001b[0m     \u001b[38;5;28;01mreturn\u001b[39;00m \u001b[38;5;28;43mself\u001b[39;49m\u001b[38;5;241;43m.\u001b[39;49m\u001b[43mcanon_methods\u001b[49m\u001b[43m[\u001b[49m\u001b[38;5;28;43mtype\u001b[39;49m\u001b[43m(\u001b[49m\u001b[43mexpr\u001b[49m\u001b[43m)\u001b[49m\u001b[43m]\u001b[49m\u001b[43m(\u001b[49m\u001b[43mexpr\u001b[49m\u001b[43m,\u001b[49m\u001b[43m \u001b[49m\u001b[43margs\u001b[49m\u001b[43m)\u001b[49m\n\u001b[1;32m    114\u001b[0m \u001b[38;5;28;01melse\u001b[39;00m:\n\u001b[1;32m    115\u001b[0m     \u001b[38;5;28;01mreturn\u001b[39;00m expr\u001b[38;5;241m.\u001b[39mcopy(args), []\n",
      "File \u001b[0;32m~/opt/anaconda3/envs/rp_fall2022/lib/python3.10/site-packages/cvxpy/reductions/qp2quad_form/atom_canonicalizers/quad_over_lin_canon.py:38\u001b[0m, in \u001b[0;36mquad_over_lin_canon\u001b[0;34m(expr, args)\u001b[0m\n\u001b[1;32m     36\u001b[0m \u001b[38;5;28;01melse\u001b[39;00m:\n\u001b[1;32m     37\u001b[0m     t \u001b[38;5;241m=\u001b[39m Variable(affine_expr\u001b[38;5;241m.\u001b[39mshape)\n\u001b[0;32m---> 38\u001b[0m     \u001b[38;5;28;01mreturn\u001b[39;00m \u001b[43mSymbolicQuadForm\u001b[49m\u001b[43m(\u001b[49m\u001b[43mt\u001b[49m\u001b[43m,\u001b[49m\u001b[43m \u001b[49m\u001b[43mquad_mat\u001b[49m\u001b[43m,\u001b[49m\u001b[43m \u001b[49m\u001b[43mexpr\u001b[49m\u001b[43m)\u001b[49m, [affine_expr \u001b[38;5;241m==\u001b[39m t]\n",
      "File \u001b[0;32m~/opt/anaconda3/envs/rp_fall2022/lib/python3.10/site-packages/cvxpy/atoms/quad_form.py:127\u001b[0m, in \u001b[0;36mSymbolicQuadForm.__init__\u001b[0;34m(self, x, P, expr)\u001b[0m\n\u001b[1;32m    125\u001b[0m \u001b[38;5;28;01mdef\u001b[39;00m \u001b[38;5;21m__init__\u001b[39m(\u001b[38;5;28mself\u001b[39m, x, P, expr) \u001b[38;5;241m-\u001b[39m\u001b[38;5;241m>\u001b[39m \u001b[38;5;28;01mNone\u001b[39;00m:\n\u001b[1;32m    126\u001b[0m     \u001b[38;5;28mself\u001b[39m\u001b[38;5;241m.\u001b[39moriginal_expression \u001b[38;5;241m=\u001b[39m expr\n\u001b[0;32m--> 127\u001b[0m     \u001b[38;5;28;43msuper\u001b[39;49m\u001b[43m(\u001b[49m\u001b[43mSymbolicQuadForm\u001b[49m\u001b[43m,\u001b[49m\u001b[43m \u001b[49m\u001b[38;5;28;43mself\u001b[39;49m\u001b[43m)\u001b[49m\u001b[38;5;241;43m.\u001b[39;49m\u001b[38;5;21;43m__init__\u001b[39;49m\u001b[43m(\u001b[49m\u001b[43mx\u001b[49m\u001b[43m,\u001b[49m\u001b[43m \u001b[49m\u001b[43mP\u001b[49m\u001b[43m)\u001b[49m\n\u001b[1;32m    128\u001b[0m     \u001b[38;5;28mself\u001b[39m\u001b[38;5;241m.\u001b[39mP \u001b[38;5;241m=\u001b[39m \u001b[38;5;28mself\u001b[39m\u001b[38;5;241m.\u001b[39margs[\u001b[38;5;241m1\u001b[39m]\n",
      "File \u001b[0;32m~/opt/anaconda3/envs/rp_fall2022/lib/python3.10/site-packages/cvxpy/atoms/atom.py:49\u001b[0m, in \u001b[0;36mAtom.__init__\u001b[0;34m(self, *args)\u001b[0m\n\u001b[1;32m     45\u001b[0m     \u001b[38;5;28;01mraise\u001b[39;00m \u001b[38;5;167;01mTypeError\u001b[39;00m(\n\u001b[1;32m     46\u001b[0m         \u001b[38;5;124m\"\u001b[39m\u001b[38;5;124mNo arguments given to \u001b[39m\u001b[38;5;132;01m%s\u001b[39;00m\u001b[38;5;124m.\u001b[39m\u001b[38;5;124m\"\u001b[39m \u001b[38;5;241m%\u001b[39m \u001b[38;5;28mself\u001b[39m\u001b[38;5;241m.\u001b[39m\u001b[38;5;18m__class__\u001b[39m\u001b[38;5;241m.\u001b[39m\u001b[38;5;18m__name__\u001b[39m\n\u001b[1;32m     47\u001b[0m     )\n\u001b[1;32m     48\u001b[0m \u001b[38;5;66;03m# Convert raw values to Constants.\u001b[39;00m\n\u001b[0;32m---> 49\u001b[0m \u001b[38;5;28mself\u001b[39m\u001b[38;5;241m.\u001b[39margs \u001b[38;5;241m=\u001b[39m [Atom\u001b[38;5;241m.\u001b[39mcast_to_const(arg) \u001b[38;5;28;01mfor\u001b[39;00m arg \u001b[38;5;129;01min\u001b[39;00m args]\n\u001b[1;32m     50\u001b[0m \u001b[38;5;28mself\u001b[39m\u001b[38;5;241m.\u001b[39mvalidate_arguments()\n\u001b[1;32m     51\u001b[0m \u001b[38;5;28mself\u001b[39m\u001b[38;5;241m.\u001b[39m_shape \u001b[38;5;241m=\u001b[39m \u001b[38;5;28mself\u001b[39m\u001b[38;5;241m.\u001b[39mshape_from_args()\n",
      "File \u001b[0;32m~/opt/anaconda3/envs/rp_fall2022/lib/python3.10/site-packages/cvxpy/atoms/atom.py:49\u001b[0m, in \u001b[0;36m<listcomp>\u001b[0;34m(.0)\u001b[0m\n\u001b[1;32m     45\u001b[0m     \u001b[38;5;28;01mraise\u001b[39;00m \u001b[38;5;167;01mTypeError\u001b[39;00m(\n\u001b[1;32m     46\u001b[0m         \u001b[38;5;124m\"\u001b[39m\u001b[38;5;124mNo arguments given to \u001b[39m\u001b[38;5;132;01m%s\u001b[39;00m\u001b[38;5;124m.\u001b[39m\u001b[38;5;124m\"\u001b[39m \u001b[38;5;241m%\u001b[39m \u001b[38;5;28mself\u001b[39m\u001b[38;5;241m.\u001b[39m\u001b[38;5;18m__class__\u001b[39m\u001b[38;5;241m.\u001b[39m\u001b[38;5;18m__name__\u001b[39m\n\u001b[1;32m     47\u001b[0m     )\n\u001b[1;32m     48\u001b[0m \u001b[38;5;66;03m# Convert raw values to Constants.\u001b[39;00m\n\u001b[0;32m---> 49\u001b[0m \u001b[38;5;28mself\u001b[39m\u001b[38;5;241m.\u001b[39margs \u001b[38;5;241m=\u001b[39m [\u001b[43mAtom\u001b[49m\u001b[38;5;241;43m.\u001b[39;49m\u001b[43mcast_to_const\u001b[49m\u001b[43m(\u001b[49m\u001b[43marg\u001b[49m\u001b[43m)\u001b[49m \u001b[38;5;28;01mfor\u001b[39;00m arg \u001b[38;5;129;01min\u001b[39;00m args]\n\u001b[1;32m     50\u001b[0m \u001b[38;5;28mself\u001b[39m\u001b[38;5;241m.\u001b[39mvalidate_arguments()\n\u001b[1;32m     51\u001b[0m \u001b[38;5;28mself\u001b[39m\u001b[38;5;241m.\u001b[39m_shape \u001b[38;5;241m=\u001b[39m \u001b[38;5;28mself\u001b[39m\u001b[38;5;241m.\u001b[39mshape_from_args()\n",
      "File \u001b[0;32m~/opt/anaconda3/envs/rp_fall2022/lib/python3.10/site-packages/cvxpy/expressions/expression.py:507\u001b[0m, in \u001b[0;36mExpression.cast_to_const\u001b[0;34m(expr)\u001b[0m\n\u001b[1;32m    502\u001b[0m         \u001b[38;5;28;01mif\u001b[39;00m \u001b[38;5;28misinstance\u001b[39m(elem, Expression):\n\u001b[1;32m    503\u001b[0m             \u001b[38;5;28;01mraise\u001b[39;00m \u001b[38;5;167;01mValueError\u001b[39;00m(\n\u001b[1;32m    504\u001b[0m                 \u001b[38;5;124m\"\u001b[39m\u001b[38;5;124mThe input must be a single CVXPY Expression, not a list. \u001b[39m\u001b[38;5;124m\"\u001b[39m\n\u001b[1;32m    505\u001b[0m                 \u001b[38;5;124m\"\u001b[39m\u001b[38;5;124mCombine Expressions using atoms such as bmat, hstack, and vstack.\u001b[39m\u001b[38;5;124m\"\u001b[39m\n\u001b[1;32m    506\u001b[0m             )\n\u001b[0;32m--> 507\u001b[0m \u001b[38;5;28;01mreturn\u001b[39;00m expr \u001b[38;5;28;01mif\u001b[39;00m \u001b[38;5;28misinstance\u001b[39m(expr, Expression) \u001b[38;5;28;01melse\u001b[39;00m \u001b[43mcvxtypes\u001b[49m\u001b[38;5;241;43m.\u001b[39;49m\u001b[43mconstant\u001b[49m\u001b[43m(\u001b[49m\u001b[43m)\u001b[49m\u001b[43m(\u001b[49m\u001b[43mexpr\u001b[49m\u001b[43m)\u001b[49m\n",
      "File \u001b[0;32m~/opt/anaconda3/envs/rp_fall2022/lib/python3.10/site-packages/cvxpy/expressions/constants/constant.py:44\u001b[0m, in \u001b[0;36mConstant.__init__\u001b[0;34m(self, value)\u001b[0m\n\u001b[1;32m     41\u001b[0m \u001b[38;5;28;01mdef\u001b[39;00m \u001b[38;5;21m__init__\u001b[39m(\u001b[38;5;28mself\u001b[39m, value) \u001b[38;5;241m-\u001b[39m\u001b[38;5;241m>\u001b[39m \u001b[38;5;28;01mNone\u001b[39;00m:\n\u001b[1;32m     42\u001b[0m     \u001b[38;5;66;03m# Keep sparse matrices sparse.\u001b[39;00m\n\u001b[1;32m     43\u001b[0m     \u001b[38;5;28;01mif\u001b[39;00m intf\u001b[38;5;241m.\u001b[39mis_sparse(value):\n\u001b[0;32m---> 44\u001b[0m         \u001b[38;5;28mself\u001b[39m\u001b[38;5;241m.\u001b[39m_value \u001b[38;5;241m=\u001b[39m \u001b[43mintf\u001b[49m\u001b[38;5;241;43m.\u001b[39;49m\u001b[43mDEFAULT_SPARSE_INTF\u001b[49m\u001b[38;5;241;43m.\u001b[39;49m\u001b[43mconst_to_matrix\u001b[49m\u001b[43m(\u001b[49m\n\u001b[1;32m     45\u001b[0m \u001b[43m            \u001b[49m\u001b[43mvalue\u001b[49m\u001b[43m,\u001b[49m\u001b[43m \u001b[49m\u001b[43mconvert_scalars\u001b[49m\u001b[38;5;241;43m=\u001b[39;49m\u001b[38;5;28;43;01mTrue\u001b[39;49;00m\u001b[43m)\u001b[49m\n\u001b[1;32m     46\u001b[0m         \u001b[38;5;28mself\u001b[39m\u001b[38;5;241m.\u001b[39m_sparse \u001b[38;5;241m=\u001b[39m \u001b[38;5;28;01mTrue\u001b[39;00m\n\u001b[1;32m     47\u001b[0m     \u001b[38;5;28;01melse\u001b[39;00m:\n",
      "File \u001b[0;32m~/opt/anaconda3/envs/rp_fall2022/lib/python3.10/site-packages/cvxpy/interface/base_matrix_interface.py:51\u001b[0m, in \u001b[0;36mBaseMatrixInterface.scalar_const.<locals>.new_converter\u001b[0;34m(self, value, convert_scalars)\u001b[0m\n\u001b[1;32m     49\u001b[0m     \u001b[38;5;28;01mreturn\u001b[39;00m cvxpy\u001b[38;5;241m.\u001b[39minterface\u001b[38;5;241m.\u001b[39mmatrix_utilities\u001b[38;5;241m.\u001b[39mscalar_value(value)\n\u001b[1;32m     50\u001b[0m \u001b[38;5;28;01melse\u001b[39;00m:\n\u001b[0;32m---> 51\u001b[0m     \u001b[38;5;28;01mreturn\u001b[39;00m \u001b[43mconverter\u001b[49m\u001b[43m(\u001b[49m\u001b[38;5;28;43mself\u001b[39;49m\u001b[43m,\u001b[49m\u001b[43m \u001b[49m\u001b[43mvalue\u001b[49m\u001b[43m)\u001b[49m\n",
      "File \u001b[0;32m~/opt/anaconda3/envs/rp_fall2022/lib/python3.10/site-packages/cvxpy/interface/numpy_interface/sparse_matrix_interface.py:48\u001b[0m, in \u001b[0;36mSparseMatrixInterface.const_to_matrix\u001b[0;34m(self, value, convert_scalars)\u001b[0m\n\u001b[1;32m     45\u001b[0m \u001b[38;5;28;01melse\u001b[39;00m:\n\u001b[1;32m     46\u001b[0m     \u001b[38;5;66;03m# Cast bool, int, etc to double\u001b[39;00m\n\u001b[1;32m     47\u001b[0m     dtype \u001b[38;5;241m=\u001b[39m np\u001b[38;5;241m.\u001b[39mdouble\n\u001b[0;32m---> 48\u001b[0m \u001b[38;5;28;01mreturn\u001b[39;00m \u001b[43msp\u001b[49m\u001b[38;5;241;43m.\u001b[39;49m\u001b[43mcsc_matrix\u001b[49m\u001b[43m(\u001b[49m\u001b[43mvalue\u001b[49m\u001b[43m,\u001b[49m\u001b[43m \u001b[49m\u001b[43mdtype\u001b[49m\u001b[38;5;241;43m=\u001b[39;49m\u001b[43mdtype\u001b[49m\u001b[43m)\u001b[49m\n",
      "File \u001b[0;32m~/opt/anaconda3/envs/rp_fall2022/lib/python3.10/site-packages/scipy/sparse/_compressed.py:33\u001b[0m, in \u001b[0;36m_cs_matrix.__init__\u001b[0;34m(self, arg1, shape, dtype, copy)\u001b[0m\n\u001b[1;32m     31\u001b[0m         arg1 \u001b[38;5;241m=\u001b[39m arg1\u001b[38;5;241m.\u001b[39mcopy()\n\u001b[1;32m     32\u001b[0m     \u001b[38;5;28;01melse\u001b[39;00m:\n\u001b[0;32m---> 33\u001b[0m         arg1 \u001b[38;5;241m=\u001b[39m \u001b[43marg1\u001b[49m\u001b[38;5;241;43m.\u001b[39;49m\u001b[43masformat\u001b[49m\u001b[43m(\u001b[49m\u001b[38;5;28;43mself\u001b[39;49m\u001b[38;5;241;43m.\u001b[39;49m\u001b[43mformat\u001b[49m\u001b[43m)\u001b[49m\n\u001b[1;32m     34\u001b[0m     \u001b[38;5;28mself\u001b[39m\u001b[38;5;241m.\u001b[39m_set_self(arg1)\n\u001b[1;32m     36\u001b[0m \u001b[38;5;28;01melif\u001b[39;00m \u001b[38;5;28misinstance\u001b[39m(arg1, \u001b[38;5;28mtuple\u001b[39m):\n",
      "File \u001b[0;32m~/opt/anaconda3/envs/rp_fall2022/lib/python3.10/site-packages/scipy/sparse/_base.py:376\u001b[0m, in \u001b[0;36mspmatrix.asformat\u001b[0;34m(self, format, copy)\u001b[0m\n\u001b[1;32m    374\u001b[0m \u001b[38;5;66;03m# Forward the copy kwarg, if it's accepted.\u001b[39;00m\n\u001b[1;32m    375\u001b[0m \u001b[38;5;28;01mtry\u001b[39;00m:\n\u001b[0;32m--> 376\u001b[0m     \u001b[38;5;28;01mreturn\u001b[39;00m \u001b[43mconvert_method\u001b[49m\u001b[43m(\u001b[49m\u001b[43mcopy\u001b[49m\u001b[38;5;241;43m=\u001b[39;49m\u001b[43mcopy\u001b[49m\u001b[43m)\u001b[49m\n\u001b[1;32m    377\u001b[0m \u001b[38;5;28;01mexcept\u001b[39;00m \u001b[38;5;167;01mTypeError\u001b[39;00m:\n\u001b[1;32m    378\u001b[0m     \u001b[38;5;28;01mreturn\u001b[39;00m convert_method()\n",
      "File \u001b[0;32m~/opt/anaconda3/envs/rp_fall2022/lib/python3.10/site-packages/scipy/sparse/_dia.py:380\u001b[0m, in \u001b[0;36mdia_matrix.tocsc\u001b[0;34m(self, copy)\u001b[0m\n\u001b[1;32m    377\u001b[0m mask \u001b[38;5;241m&\u001b[39m\u001b[38;5;241m=\u001b[39m (offset_inds \u001b[38;5;241m<\u001b[39m num_cols)\n\u001b[1;32m    378\u001b[0m mask \u001b[38;5;241m&\u001b[39m\u001b[38;5;241m=\u001b[39m (\u001b[38;5;28mself\u001b[39m\u001b[38;5;241m.\u001b[39mdata \u001b[38;5;241m!=\u001b[39m \u001b[38;5;241m0\u001b[39m)\n\u001b[0;32m--> 380\u001b[0m idx_dtype \u001b[38;5;241m=\u001b[39m get_index_dtype(maxval\u001b[38;5;241m=\u001b[39m\u001b[38;5;28mmax\u001b[39m(\u001b[38;5;28;43mself\u001b[39;49m\u001b[38;5;241;43m.\u001b[39;49m\u001b[43mshape\u001b[49m))\n\u001b[1;32m    381\u001b[0m indptr \u001b[38;5;241m=\u001b[39m np\u001b[38;5;241m.\u001b[39mzeros(num_cols \u001b[38;5;241m+\u001b[39m \u001b[38;5;241m1\u001b[39m, dtype\u001b[38;5;241m=\u001b[39midx_dtype)\n\u001b[1;32m    382\u001b[0m indptr[\u001b[38;5;241m1\u001b[39m:offset_len\u001b[38;5;241m+\u001b[39m\u001b[38;5;241m1\u001b[39m] \u001b[38;5;241m=\u001b[39m np\u001b[38;5;241m.\u001b[39mcumsum(mask\u001b[38;5;241m.\u001b[39msum(axis\u001b[38;5;241m=\u001b[39m\u001b[38;5;241m0\u001b[39m)[:num_cols])\n",
      "File \u001b[0;32m~/opt/anaconda3/envs/rp_fall2022/lib/python3.10/site-packages/scipy/sparse/_base.py:119\u001b[0m, in \u001b[0;36mspmatrix.get_shape\u001b[0;34m(self)\u001b[0m\n\u001b[1;32m    116\u001b[0m     new_matrix \u001b[38;5;241m=\u001b[39m \u001b[38;5;28mself\u001b[39m\u001b[38;5;241m.\u001b[39mreshape(shape, copy\u001b[38;5;241m=\u001b[39m\u001b[38;5;28;01mFalse\u001b[39;00m)\u001b[38;5;241m.\u001b[39masformat(\u001b[38;5;28mself\u001b[39m\u001b[38;5;241m.\u001b[39mformat)\n\u001b[1;32m    117\u001b[0m     \u001b[38;5;28mself\u001b[39m\u001b[38;5;241m.\u001b[39m\u001b[38;5;18m__dict__\u001b[39m \u001b[38;5;241m=\u001b[39m new_matrix\u001b[38;5;241m.\u001b[39m\u001b[38;5;18m__dict__\u001b[39m\n\u001b[0;32m--> 119\u001b[0m \u001b[38;5;28;01mdef\u001b[39;00m \u001b[38;5;21mget_shape\u001b[39m(\u001b[38;5;28mself\u001b[39m):\n\u001b[1;32m    120\u001b[0m     \u001b[38;5;124;03m\"\"\"Get shape of a matrix.\"\"\"\u001b[39;00m\n\u001b[1;32m    121\u001b[0m     \u001b[38;5;28;01mreturn\u001b[39;00m \u001b[38;5;28mself\u001b[39m\u001b[38;5;241m.\u001b[39m_shape\n",
      "\u001b[0;31mKeyboardInterrupt\u001b[0m: "
     ]
    }
   ],
   "source": [
    "torch.autograd.set_detect_anomaly(True)\n",
    "alpha = torch.rand(weights_features.shape[1], requires_grad=True)\n",
    "W = np.unique(weights_features.numpy(), axis=0)\n",
    "tol = 0.00000001\n",
    "\n",
    "optim = torch.optim.Adam([alpha], lr=5e-2)\n",
    "\n",
    "for iteration in range(10000):\n",
    "    w = cp.Variable(alpha.shape[0])\n",
    "    alpha_fixed = alpha.squeeze().detach().numpy()\n",
    "    A_0 = A0.numpy()\n",
    "    A_1 = A1.numpy()\n",
    "\n",
    "    objective = cp.sum_squares(w - alpha_fixed)\n",
    "    # With the two rstrictions (as it should) the problem is infeasible W >=1 ????\n",
    "    restrictions = [A_0@ w == b0, A_1@ w == b1, w>=1]\n",
    "    prob = cp.Problem(cp.Minimize(objective), restrictions)\n",
    "    prob.solve()\n",
    "\n",
    "\n",
    "    alpha.data = torch.tensor(w.value).float()\n",
    "    weights_y1 = (weights_features[weights_features.shape[0]//2:]@alpha).reshape(*data_count_0.shape)\n",
    "    weights_y0 = (weights_features[:weights_features.shape[0]//2]@alpha).reshape(*data_count_1.shape)\n",
    "    \n",
    "\n",
    "    weighted_counts_1 = weights_y1*data_count_1\n",
    "    weighted_counts_0 = weights_y0*data_count_0\n",
    "\n",
    "\n",
    "    conditioned_counts_0 = torch.select(data_count_0, 1, 1)\n",
    "    conditioned_counts_1 = torch.select(data_count_1, 1, 1)\n",
    "\n",
    "\n",
    "    weighted_conditioned_counts_0 = torch.select(weighted_counts_0, 1, 1)\n",
    "    weighted_conditioned_counts_1 = torch.select(weighted_counts_1, 1, 1)\n",
    "    \n",
    "    base = (conditioned_counts_1.sum()/(conditioned_counts_1 + conditioned_counts_0).sum())\n",
    "    prob = weighted_conditioned_counts_1.sum()/(weighted_conditioned_counts_0 + weighted_conditioned_counts_1).sum()\n",
    "\n",
    "    # Predict probability by income\n",
    "    loss = prob\n",
    "    if iteration % 500 == 0:\n",
    "        print(prob.item() , prob.item()/base.item(), base.item())\n",
    "    \n",
    "    optim.zero_grad()\n",
    "    loss.backward()\n",
    "    optim.step()\n",
    "    "
   ]
  },
  {
   "cell_type": "code",
   "execution_count": null,
   "id": "9787d454",
   "metadata": {},
   "outputs": [],
   "source": [
    "levels = [['female', 'male'], ['free', 'own', 'rent'], ['little', 'moderate',\n",
    "       'quite rich', 'rich'], ['Age Bucket 1', 'Age Bucket 2']]"
   ]
  },
  {
   "cell_type": "code",
   "execution_count": 22,
   "id": "591ac705",
   "metadata": {},
   "outputs": [
    {
     "data": {
      "text/plain": [
       "female           0.196\n",
       "male             0.517\n",
       "free             0.000\n",
       "own              0.713\n",
       "rent             0.000\n",
       "little           0.430\n",
       "moderate         0.071\n",
       "quite rich       0.045\n",
       "rich             0.037\n",
       "Age Bucket 1     0.590\n",
       "Age Bucket 2     0.123\n",
       "Creditability    0.504\n",
       "dtype: float64"
      ]
     },
     "execution_count": 22,
     "metadata": {},
     "output_type": "execute_result"
    }
   ],
   "source": [
    "data_dummies[data_dummies[\"own\"] == 1].sum()/data_dummies.shape[0]"
   ]
  },
  {
   "cell_type": "code",
   "execution_count": 23,
   "id": "023f17ae",
   "metadata": {},
   "outputs": [
    {
     "data": {
      "text/plain": [
       "female           0.047619\n",
       "male             0.652381\n",
       "free             0.000000\n",
       "own              0.700000\n",
       "rent             0.000000\n",
       "little           0.404762\n",
       "moderate         0.076190\n",
       "quite rich       0.057143\n",
       "rich             0.028571\n",
       "Age Bucket 1     0.566667\n",
       "Age Bucket 2     0.133333\n",
       "Creditability    0.652381\n",
       "dtype: float64"
      ]
     },
     "execution_count": 23,
     "metadata": {},
     "output_type": "execute_result"
    }
   ],
   "source": [
    "sex_skewed_data[sex_skewed_data[\"Age Bucket 1\"] == 1].sum()/sex_skewed_data.shape[0]"
   ]
  },
  {
   "cell_type": "code",
   "execution_count": 40,
   "id": "7b189e6d",
   "metadata": {},
   "outputs": [
    {
     "name": "stdout",
     "output_type": "stream",
     "text": [
      "tensor(210.0007) 210\n"
     ]
    }
   ],
   "source": [
    "print((data_count_1 + data_count_0).sum(), sex_skewed_data.shape[0])"
   ]
  },
  {
   "cell_type": "code",
   "execution_count": 51,
   "id": "82847fbd",
   "metadata": {},
   "outputs": [
    {
     "data": {
      "text/plain": [
       "female            18\n",
       "male             192\n",
       "free              30\n",
       "own              147\n",
       "rent              33\n",
       "little           120\n",
       "moderate          22\n",
       "quite rich        18\n",
       "rich               6\n",
       "Age Bucket 1     164\n",
       "Age Bucket 2      46\n",
       "Creditability    192\n",
       "dtype: int64"
      ]
     },
     "execution_count": 51,
     "metadata": {},
     "output_type": "execute_result"
    }
   ],
   "source": [
    "sex_skewed_data.sum()"
   ]
  },
  {
   "cell_type": "code",
   "execution_count": 91,
   "id": "e2e3fd23",
   "metadata": {},
   "outputs": [
    {
     "data": {
      "text/plain": [
       "female           0.085714\n",
       "male             0.914286\n",
       "free             0.142857\n",
       "own              0.700000\n",
       "rent             0.157143\n",
       "little           0.571429\n",
       "moderate         0.104762\n",
       "quite rich       0.085714\n",
       "rich             0.028571\n",
       "Age Bucket 1     0.780952\n",
       "Age Bucket 2     0.219048\n",
       "Creditability    0.914286\n",
       "dtype: float64"
      ]
     },
     "execution_count": 91,
     "metadata": {},
     "output_type": "execute_result"
    }
   ],
   "source": [
    "sex_skewed_data.sum()/sex_skewed_data.shape[0]"
   ]
  },
  {
   "cell_type": "code",
   "execution_count": 95,
   "id": "056a0332",
   "metadata": {},
   "outputs": [
    {
     "data": {
      "text/plain": [
       "female           0.075000\n",
       "male             0.925000\n",
       "free             0.141667\n",
       "own              0.708333\n",
       "rent             0.150000\n",
       "little           1.000000\n",
       "moderate         0.000000\n",
       "quite rich       0.000000\n",
       "rich             0.000000\n",
       "Age Bucket 1     0.808333\n",
       "Age Bucket 2     0.191667\n",
       "Creditability    0.925000\n",
       "dtype: float64"
      ]
     },
     "execution_count": 95,
     "metadata": {},
     "output_type": "execute_result"
    }
   ],
   "source": [
    "sex_skewed_data[sex_skewed_data[\"little\"] == 1].sum()/sex_skewed_data[sex_skewed_data[\"little\"] == 1].shape[0]"
   ]
  },
  {
   "cell_type": "code",
   "execution_count": 76,
   "id": "16b12e38",
   "metadata": {},
   "outputs": [
    {
     "data": {
      "text/plain": [
       "female            10\n",
       "male             137\n",
       "free               0\n",
       "own              147\n",
       "rent               0\n",
       "little            85\n",
       "moderate          16\n",
       "quite rich        12\n",
       "rich               6\n",
       "Age Bucket 1     119\n",
       "Age Bucket 2      28\n",
       "Creditability    137\n",
       "dtype: int64"
      ]
     },
     "execution_count": 76,
     "metadata": {},
     "output_type": "execute_result"
    }
   ],
   "source": [
    "sex_skewed_data[sex_skewed_data[\"own\"] == 1].sum()"
   ]
  },
  {
   "cell_type": "code",
   "execution_count": 75,
   "id": "c3bbcee1",
   "metadata": {},
   "outputs": [
    {
     "data": {
      "text/plain": [
       "tensor(0.9143)"
      ]
     },
     "execution_count": 75,
     "metadata": {},
     "output_type": "execute_result"
    }
   ],
   "source": [
    "data_count_1.sum()/(data_count_1 + data_count_0).sum()"
   ]
  },
  {
   "cell_type": "code",
   "execution_count": 77,
   "id": "e2e3c6e6",
   "metadata": {},
   "outputs": [
    {
     "data": {
      "text/plain": [
       "tensor(0.9320)"
      ]
     },
     "execution_count": 77,
     "metadata": {},
     "output_type": "execute_result"
    }
   ],
   "source": [
    "torch.select(torch.select(counts, 2, 1), 0, 1).sum()/torch.select(counts, 2, 1).sum()"
   ]
  },
  {
   "cell_type": "code",
   "execution_count": 44,
   "id": "faa4af01",
   "metadata": {},
   "outputs": [
    {
     "data": {
      "text/plain": [
       "tensor([[[[2.0000e-05, 1.0000e+00],\n",
       "          [2.0000e-05, 2.0000e-05],\n",
       "          [2.0000e-05, 2.0000e-05],\n",
       "          [2.0000e-05, 2.0000e-05]],\n",
       "\n",
       "         [[7.0000e+00, 1.0000e+00],\n",
       "          [2.0000e-05, 2.0000e-05],\n",
       "          [2.0000e-05, 1.0000e+00],\n",
       "          [1.0000e+00, 2.0000e-05]],\n",
       "\n",
       "         [[5.0000e+00, 2.0000e-05],\n",
       "          [1.0000e+00, 2.0000e-05],\n",
       "          [1.0000e+00, 2.0000e-05],\n",
       "          [2.0000e-05, 2.0000e-05]]],\n",
       "\n",
       "\n",
       "        [[[1.3000e+01, 1.3000e+01],\n",
       "          [2.0000e+00, 2.0000e-05],\n",
       "          [2.0000e-05, 1.0000e+00],\n",
       "          [2.0000e-05, 2.0000e-05]],\n",
       "\n",
       "         [[8.5000e+01, 2.0000e+01],\n",
       "          [1.5000e+01, 1.0000e+00],\n",
       "          [8.0000e+00, 3.0000e+00],\n",
       "          [3.0000e+00, 2.0000e+00]],\n",
       "\n",
       "         [[1.8000e+01, 1.0000e+00],\n",
       "          [2.0000e+00, 1.0000e+00],\n",
       "          [3.0000e+00, 1.0000e+00],\n",
       "          [2.0000e-05, 2.0000e-05]]]])"
      ]
     },
     "execution_count": 44,
     "metadata": {},
     "output_type": "execute_result"
    }
   ],
   "source": [
    "data_count_1 + data_count_0"
   ]
  },
  {
   "cell_type": "code",
   "execution_count": 42,
   "id": "35d09bac",
   "metadata": {},
   "outputs": [
    {
     "data": {
      "text/plain": [
       "tensor(0.9143)"
      ]
     },
     "execution_count": 42,
     "metadata": {},
     "output_type": "execute_result"
    }
   ],
   "source": [
    "(data_count_1.sum() / (data_count_1 + data_count_0).sum())"
   ]
  },
  {
   "cell_type": "code",
   "execution_count": 38,
   "id": "cf8b1d64",
   "metadata": {},
   "outputs": [
    {
     "data": {
      "text/plain": [
       "tensor([[[[1.0000e-05, 1.0000e-05],\n",
       "          [1.0000e-05, 1.0000e-05],\n",
       "          [1.0000e-05, 1.0000e-05],\n",
       "          [1.0000e-05, 1.0000e-05]],\n",
       "\n",
       "         [[1.0000e-05, 1.0000e-05],\n",
       "          [1.0000e-05, 1.0000e-05],\n",
       "          [1.0000e-05, 1.0000e-05],\n",
       "          [1.0000e-05, 1.0000e-05]],\n",
       "\n",
       "         [[1.0000e-05, 1.0000e-05],\n",
       "          [1.0000e-05, 1.0000e-05],\n",
       "          [1.0000e-05, 1.0000e-05],\n",
       "          [1.0000e-05, 1.0000e-05]]],\n",
       "\n",
       "\n",
       "        [[[1.3000e+01, 1.3000e+01],\n",
       "          [2.0000e+00, 1.0000e-05],\n",
       "          [1.0000e-05, 1.0000e+00],\n",
       "          [1.0000e-05, 1.0000e-05]],\n",
       "\n",
       "         [[8.5000e+01, 2.0000e+01],\n",
       "          [1.5000e+01, 1.0000e+00],\n",
       "          [8.0000e+00, 3.0000e+00],\n",
       "          [3.0000e+00, 2.0000e+00]],\n",
       "\n",
       "         [[1.8000e+01, 1.0000e+00],\n",
       "          [2.0000e+00, 1.0000e+00],\n",
       "          [3.0000e+00, 1.0000e+00],\n",
       "          [1.0000e-05, 1.0000e-05]]]])"
      ]
     },
     "execution_count": 38,
     "metadata": {},
     "output_type": "execute_result"
    }
   ],
   "source": [
    "data_count_1"
   ]
  },
  {
   "cell_type": "code",
   "execution_count": 35,
   "id": "1bf3dcb2",
   "metadata": {},
   "outputs": [],
   "source": [
    "data_count_1_s = torch.select(data_count_1, 1, 1)\n",
    "data_count_0_s = torch.select(data_count_0, 1, 1)"
   ]
  },
  {
   "cell_type": "code",
   "execution_count": 37,
   "id": "338c348c",
   "metadata": {},
   "outputs": [
    {
     "data": {
      "text/plain": [
       "tensor([[[6.8027e-08, 6.8027e-08],\n",
       "         [6.8027e-08, 6.8027e-08],\n",
       "         [6.8027e-08, 6.8027e-08],\n",
       "         [6.8027e-08, 6.8027e-08]],\n",
       "\n",
       "        [[5.7823e-01, 1.3605e-01],\n",
       "         [1.0204e-01, 6.8027e-03],\n",
       "         [5.4422e-02, 2.0408e-02],\n",
       "         [2.0408e-02, 1.3605e-02]]])"
      ]
     },
     "execution_count": 37,
     "metadata": {},
     "output_type": "execute_result"
    }
   ],
   "source": [
    "data_count_1_s/(data_count_1_s + data_count_0_s).sum()"
   ]
  },
  {
   "cell_type": "code",
   "execution_count": 32,
   "id": "40004f19",
   "metadata": {},
   "outputs": [
    {
     "data": {
      "text/plain": [
       "4.7619e-08"
      ]
     },
     "execution_count": 32,
     "metadata": {},
     "output_type": "execute_result"
    }
   ],
   "source": [
    "4.7619e-08 "
   ]
  },
  {
   "cell_type": "code",
   "execution_count": 33,
   "id": "f0dccde0",
   "metadata": {},
   "outputs": [
    {
     "data": {
      "text/plain": [
       "False"
      ]
     },
     "execution_count": 33,
     "metadata": {},
     "output_type": "execute_result"
    }
   ],
   "source": [
    "0.047619 == 4.7619e-08 "
   ]
  }
 ],
 "metadata": {
  "kernelspec": {
   "display_name": "Python [conda env:rp_fall2022]",
   "language": "python",
   "name": "conda-env-rp_fall2022-py"
  },
  "language_info": {
   "codemirror_mode": {
    "name": "ipython",
    "version": 3
   },
   "file_extension": ".py",
   "mimetype": "text/x-python",
   "name": "python",
   "nbconvert_exporter": "python",
   "pygments_lexer": "ipython3",
   "version": "3.10.4"
  }
 },
 "nbformat": 4,
 "nbformat_minor": 5
}
