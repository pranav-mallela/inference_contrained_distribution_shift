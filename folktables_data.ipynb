{
 "cells": [
  {
   "cell_type": "markdown",
   "metadata": {},
   "source": [
    "Notebook to generate data using folktables."
   ]
  },
  {
   "cell_type": "code",
   "execution_count": null,
   "metadata": {},
   "outputs": [],
   "source": [
    "from folktables import ACSDataSource, ACS"
   ]
  },
  {
   "cell_type": "code",
   "execution_count": null,
   "metadata": {},
   "outputs": [
    {
     "name": "stdout",
     "output_type": "stream",
     "text": [
      "Downloading data for 2023 1-Year person survey for MI...\n",
      "<class 'pandas.core.frame.DataFrame'>\n"
     ]
    }
   ],
   "source": [
    "data_source = ACSDataSource(survey_year='2023', horizon='1-Year', survey='person')\n",
    "acs_data = data_source.get_data(states=['MI'], download=True)\n",
    "print(type(acs_data))"
   ]
  },
  {
   "cell_type": "code",
   "execution_count": 5,
   "metadata": {},
   "outputs": [],
   "source": [
    "acs_data.to_csv('MI_2023_person.csv')"
   ]
  },
  {
   "cell_type": "markdown",
   "metadata": {},
   "source": [
    "Selected Features\n",
    "\n",
    "AGEP: Age\n",
    "\n",
    "COW: Class of Worker\n",
    "\n",
    "SCHL: Educational Attainment\n",
    "\n",
    "MAR: Marital Status\n",
    "\n",
    "OCCP: Occupation\n",
    "\n",
    "POBP: Place of Birth\n",
    "\n",
    "RELP: Relationship to Reference Person\n",
    "\n",
    "WKHP: Usual Hours Worked Per Week Past 12 Months\n",
    "\n",
    "SEX: Sex\n",
    "\n",
    "RAC1P: Recoded Detailed Race Code\n"
   ]
  },
  {
   "cell_type": "code",
   "execution_count": null,
   "metadata": {},
   "outputs": [
    {
     "name": "stdout",
     "output_type": "stream",
     "text": [
      "        AGEP  COW  SCHL  MAR  PUMA  REGION    OCCP  POBP  WKHP  SEX  RAC1P\n",
      "0         20  1.0  19.0    5  2600       2  2002.0    26  50.0    1      1\n",
      "1         71  NaN  20.0    1   100       2     NaN    26   NaN    2      1\n",
      "2         27  NaN  18.0    5   500       2     NaN    26   NaN    1      2\n",
      "3         18  1.0  18.0    5  1801       2  7750.0    26  30.0    1      1\n",
      "4         94  NaN  18.0    2   400       2     NaN    26   NaN    2      1\n",
      "...      ...  ...   ...  ...   ...     ...     ...   ...   ...  ...    ...\n",
      "102576    71  NaN  21.0    1  3002       2     NaN    40   NaN    2      1\n",
      "102577    76  NaN  19.0    1  3205       2     NaN    42   NaN    2      1\n",
      "102578    85  NaN  16.0    1  3205       2     NaN    42   NaN    1      1\n",
      "102579    63  2.0  16.0    1  2800       2   420.0    26  40.0    2      1\n",
      "102580    59  1.0  16.0    1  2800       2   650.0    26  40.0    1      1\n",
      "\n",
      "[102581 rows x 11 columns]\n"
     ]
    }
   ],
   "source": [
    "# Columns to keep\n",
    "columns_to_keep = ['AGEP', 'COW', 'SCHL', 'MAR', 'PUMA', 'OCCP', 'POBP', 'WKHP', 'SEX', 'RAC1P']\n",
    "\n",
    "# Filter the DataFrame\n",
    "filtered_df = acs_data[columns_to_keep]\n",
    "\n",
    "print(filtered_df)"
   ]
  },
  {
   "cell_type": "markdown",
   "metadata": {},
   "source": [
    "Check racial diversity in data"
   ]
  },
  {
   "cell_type": "code",
   "execution_count": 8,
   "metadata": {},
   "outputs": [
    {
     "name": "stdout",
     "output_type": "stream",
     "text": [
      "Number of unique values in RAC1P: 9\n",
      "\n",
      "Counts of each unique value in RAC1P:\n",
      "1    83277\n",
      "2     7459\n",
      "9     6612\n",
      "6     2700\n",
      "8     1657\n",
      "3      716\n",
      "5      128\n",
      "7       27\n",
      "4        5\n",
      "Name: RAC1P, dtype: int64\n",
      "\n",
      "Proportions of each unique value in RAC1P:\n",
      "1    0.811817\n",
      "2    0.072713\n",
      "9    0.064456\n",
      "6    0.026321\n",
      "8    0.016153\n",
      "3    0.006980\n",
      "5    0.001248\n",
      "7    0.000263\n",
      "4    0.000049\n",
      "Name: RAC1P, dtype: float64\n"
     ]
    }
   ],
   "source": [
    "# Number of unique values\n",
    "num_unique_values = filtered_df['RAC1P'].nunique()\n",
    "print(f\"Number of unique values in RAC1P: {num_unique_values}\")\n",
    "\n",
    "# Counts of each unique value\n",
    "value_counts = filtered_df['RAC1P'].value_counts()\n",
    "print(\"\\nCounts of each unique value in RAC1P:\")\n",
    "print(value_counts)\n",
    "\n",
    "# Proportions of each unique value\n",
    "value_proportions = filtered_df['RAC1P'].value_counts(normalize=True)\n",
    "print(\"\\nProportions of each unique value in RAC1P:\")\n",
    "print(value_proportions)"
   ]
  },
  {
   "cell_type": "markdown",
   "metadata": {},
   "source": [
    "Aggregate PUMAs into to n regions"
   ]
  },
  {
   "cell_type": "code",
   "execution_count": 14,
   "metadata": {},
   "outputs": [
    {
     "name": "stdout",
     "output_type": "stream",
     "text": [
      "\n",
      "Counts of each group in Aggregated_PUMA:\n",
      "3    36327\n",
      "2    34065\n",
      "1    32189\n",
      "Name: Aggregated_PUMA, dtype: int64\n"
     ]
    },
    {
     "name": "stderr",
     "output_type": "stream",
     "text": [
      "C:\\Users\\prana\\AppData\\Local\\Temp\\ipykernel_23232\\123881483.py:21: SettingWithCopyWarning: \n",
      "A value is trying to be set on a copy of a slice from a DataFrame.\n",
      "Try using .loc[row_indexer,col_indexer] = value instead\n",
      "\n",
      "See the caveats in the documentation: https://pandas.pydata.org/pandas-docs/stable/user_guide/indexing.html#returning-a-view-versus-a-copy\n",
      "  filtered_df['Aggregated_PUMA'] = filtered_df['PUMA'].map(grouped_pumas)\n"
     ]
    }
   ],
   "source": [
    "# Parameterizable number of groups\n",
    "n = 3\n",
    "\n",
    "# Step 1: Count occurrences of each PUMA\n",
    "puma_counts = filtered_df['PUMA'].value_counts()\n",
    "\n",
    "# Step 2: Divide PUMAs into approximately equal-sized groups\n",
    "grouped_pumas = {}\n",
    "group_size = len(filtered_df) // n\n",
    "current_group = 1\n",
    "current_count = 0\n",
    "\n",
    "for puma, count in puma_counts.items():\n",
    "    if current_count + count > group_size and current_group < n:\n",
    "        current_group += 1\n",
    "        current_count = 0\n",
    "    grouped_pumas[puma] = current_group\n",
    "    current_count += count\n",
    "\n",
    "# Step 3: Create the new feature\n",
    "filtered_df['Aggregated_PUMA'] = filtered_df['PUMA'].map(grouped_pumas)\n",
    "\n",
    "# Check the result\n",
    "# print(filtered_df)\n",
    "print(\"\\nCounts of each group in Aggregated_PUMA:\")\n",
    "print(filtered_df['Aggregated_PUMA'].value_counts())"
   ]
  },
  {
   "cell_type": "code",
   "execution_count": 16,
   "metadata": {},
   "outputs": [],
   "source": [
    "filtered_df.to_csv('MI_2023_agg_3_regions.csv')"
   ]
  }
 ],
 "metadata": {
  "kernelspec": {
   "display_name": "Python 3",
   "language": "python",
   "name": "python3"
  },
  "language_info": {
   "codemirror_mode": {
    "name": "ipython",
    "version": 3
   },
   "file_extension": ".py",
   "mimetype": "text/x-python",
   "name": "python",
   "nbconvert_exporter": "python",
   "pygments_lexer": "ipython3",
   "version": "3.9.5"
  }
 },
 "nbformat": 4,
 "nbformat_minor": 2
}
